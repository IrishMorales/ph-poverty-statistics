{
 "cells": [
  {
   "cell_type": "markdown",
   "id": "4bc00a5c",
   "metadata": {},
   "source": [
    "# Philippine Poverty Statistics - EDA"
   ]
  },
  {
   "cell_type": "markdown",
   "id": "9a207589",
   "metadata": {},
   "source": [
    "## Data Preparation"
   ]
  },
  {
   "cell_type": "markdown",
   "id": "7486b2ca",
   "metadata": {},
   "source": [
    "### Reading data"
   ]
  },
  {
   "cell_type": "code",
   "execution_count": 1,
   "id": "de9904ee",
   "metadata": {},
   "outputs": [],
   "source": [
    "import pandas as pd\n",
    "import numpy as np\n",
    "import seaborn as sns\n",
    "import matplotlib.pyplot as plt"
   ]
  },
  {
   "cell_type": "code",
   "execution_count": 2,
   "id": "6641495f",
   "metadata": {},
   "outputs": [
    {
     "data": {
      "text/html": [
       "<div>\n",
       "<style scoped>\n",
       "    .dataframe tbody tr th:only-of-type {\n",
       "        vertical-align: middle;\n",
       "    }\n",
       "\n",
       "    .dataframe tbody tr th {\n",
       "        vertical-align: top;\n",
       "    }\n",
       "\n",
       "    .dataframe thead th {\n",
       "        text-align: right;\n",
       "    }\n",
       "</style>\n",
       "<table border=\"1\" class=\"dataframe\">\n",
       "  <thead>\n",
       "    <tr style=\"text-align: right;\">\n",
       "      <th></th>\n",
       "      <th>Unnamed: 0</th>\n",
       "      <th>Variable</th>\n",
       "      <th>Year</th>\n",
       "      <th>province</th>\n",
       "      <th>value</th>\n",
       "      <th>adm_level</th>\n",
       "      <th>region</th>\n",
       "      <th>unit</th>\n",
       "    </tr>\n",
       "  </thead>\n",
       "  <tbody>\n",
       "    <tr>\n",
       "      <th>0</th>\n",
       "      <td>0</td>\n",
       "      <td>Annual Per Capita Poverty Threshold (in Pesos)</td>\n",
       "      <td>1991</td>\n",
       "      <td>1st District</td>\n",
       "      <td>NaN</td>\n",
       "      <td>District</td>\n",
       "      <td>NCR</td>\n",
       "      <td>in Pesos</td>\n",
       "    </tr>\n",
       "    <tr>\n",
       "      <th>1</th>\n",
       "      <td>1</td>\n",
       "      <td>Annual Per Capita Poverty Threshold (in Pesos)</td>\n",
       "      <td>2006</td>\n",
       "      <td>1st District</td>\n",
       "      <td>15,699</td>\n",
       "      <td>District</td>\n",
       "      <td>NCR</td>\n",
       "      <td>in Pesos</td>\n",
       "    </tr>\n",
       "    <tr>\n",
       "      <th>2</th>\n",
       "      <td>2</td>\n",
       "      <td>Annual Per Capita Poverty Threshold (in Pesos)</td>\n",
       "      <td>2009</td>\n",
       "      <td>1st District</td>\n",
       "      <td>19,227</td>\n",
       "      <td>District</td>\n",
       "      <td>NCR</td>\n",
       "      <td>in Pesos</td>\n",
       "    </tr>\n",
       "    <tr>\n",
       "      <th>3</th>\n",
       "      <td>3</td>\n",
       "      <td>Annual Per Capita Poverty Threshold (in Pesos)</td>\n",
       "      <td>2012</td>\n",
       "      <td>1st District</td>\n",
       "      <td>20,344</td>\n",
       "      <td>District</td>\n",
       "      <td>NCR</td>\n",
       "      <td>in Pesos</td>\n",
       "    </tr>\n",
       "    <tr>\n",
       "      <th>4</th>\n",
       "      <td>4</td>\n",
       "      <td>Annual Per Capita Poverty Threshold (in Pesos)</td>\n",
       "      <td>2015</td>\n",
       "      <td>1st District</td>\n",
       "      <td>25,007</td>\n",
       "      <td>District</td>\n",
       "      <td>NCR</td>\n",
       "      <td>in Pesos</td>\n",
       "    </tr>\n",
       "    <tr>\n",
       "      <th>...</th>\n",
       "      <td>...</td>\n",
       "      <td>...</td>\n",
       "      <td>...</td>\n",
       "      <td>...</td>\n",
       "      <td>...</td>\n",
       "      <td>...</td>\n",
       "      <td>...</td>\n",
       "      <td>...</td>\n",
       "    </tr>\n",
       "    <tr>\n",
       "      <th>3600</th>\n",
       "      <td>3600</td>\n",
       "      <td>Magnitude of Subsistence Poor Population</td>\n",
       "      <td>1991</td>\n",
       "      <td>Zamboanga del Sur</td>\n",
       "      <td>NaN</td>\n",
       "      <td>Province</td>\n",
       "      <td>Region IX</td>\n",
       "      <td>population</td>\n",
       "    </tr>\n",
       "    <tr>\n",
       "      <th>3601</th>\n",
       "      <td>3601</td>\n",
       "      <td>Magnitude of Subsistence Poor Population</td>\n",
       "      <td>2006</td>\n",
       "      <td>Zamboanga del Sur</td>\n",
       "      <td>268,576</td>\n",
       "      <td>Province</td>\n",
       "      <td>Region IX</td>\n",
       "      <td>population</td>\n",
       "    </tr>\n",
       "    <tr>\n",
       "      <th>3602</th>\n",
       "      <td>3602</td>\n",
       "      <td>Magnitude of Subsistence Poor Population</td>\n",
       "      <td>2009</td>\n",
       "      <td>Zamboanga del Sur</td>\n",
       "      <td>261,992</td>\n",
       "      <td>Province</td>\n",
       "      <td>Region IX</td>\n",
       "      <td>population</td>\n",
       "    </tr>\n",
       "    <tr>\n",
       "      <th>3603</th>\n",
       "      <td>3603</td>\n",
       "      <td>Magnitude of Subsistence Poor Population</td>\n",
       "      <td>2012</td>\n",
       "      <td>Zamboanga del Sur</td>\n",
       "      <td>209,765</td>\n",
       "      <td>Province</td>\n",
       "      <td>Region IX</td>\n",
       "      <td>population</td>\n",
       "    </tr>\n",
       "    <tr>\n",
       "      <th>3604</th>\n",
       "      <td>3604</td>\n",
       "      <td>Magnitude of Subsistence Poor Population</td>\n",
       "      <td>2015</td>\n",
       "      <td>Zamboanga del Sur</td>\n",
       "      <td>143,740</td>\n",
       "      <td>Province</td>\n",
       "      <td>Region IX</td>\n",
       "      <td>population</td>\n",
       "    </tr>\n",
       "  </tbody>\n",
       "</table>\n",
       "<p>3605 rows × 8 columns</p>\n",
       "</div>"
      ],
      "text/plain": [
       "      Unnamed: 0                                        Variable  Year  \\\n",
       "0              0  Annual Per Capita Poverty Threshold (in Pesos)  1991   \n",
       "1              1  Annual Per Capita Poverty Threshold (in Pesos)  2006   \n",
       "2              2  Annual Per Capita Poverty Threshold (in Pesos)  2009   \n",
       "3              3  Annual Per Capita Poverty Threshold (in Pesos)  2012   \n",
       "4              4  Annual Per Capita Poverty Threshold (in Pesos)  2015   \n",
       "...          ...                                             ...   ...   \n",
       "3600        3600        Magnitude of Subsistence Poor Population  1991   \n",
       "3601        3601        Magnitude of Subsistence Poor Population  2006   \n",
       "3602        3602        Magnitude of Subsistence Poor Population  2009   \n",
       "3603        3603        Magnitude of Subsistence Poor Population  2012   \n",
       "3604        3604        Magnitude of Subsistence Poor Population  2015   \n",
       "\n",
       "               province       value adm_level     region        unit  \n",
       "0          1st District         NaN  District        NCR    in Pesos  \n",
       "1          1st District     15,699   District        NCR    in Pesos  \n",
       "2          1st District     19,227   District        NCR    in Pesos  \n",
       "3          1st District     20,344   District        NCR    in Pesos  \n",
       "4          1st District     25,007   District        NCR    in Pesos  \n",
       "...                 ...         ...       ...        ...         ...  \n",
       "3600  Zamboanga del Sur         NaN  Province  Region IX  population  \n",
       "3601  Zamboanga del Sur    268,576   Province  Region IX  population  \n",
       "3602  Zamboanga del Sur    261,992   Province  Region IX  population  \n",
       "3603  Zamboanga del Sur    209,765   Province  Region IX  population  \n",
       "3604  Zamboanga del Sur    143,740   Province  Region IX  population  \n",
       "\n",
       "[3605 rows x 8 columns]"
      ]
     },
     "execution_count": 2,
     "metadata": {},
     "output_type": "execute_result"
    }
   ],
   "source": [
    "# Read and inspect data\n",
    "df = pd.read_csv('povstat_processed.csv')\n",
    "df"
   ]
  },
  {
   "cell_type": "code",
   "execution_count": 3,
   "id": "7720190f",
   "metadata": {},
   "outputs": [
    {
     "data": {
      "text/html": [
       "<div>\n",
       "<style scoped>\n",
       "    .dataframe tbody tr th:only-of-type {\n",
       "        vertical-align: middle;\n",
       "    }\n",
       "\n",
       "    .dataframe tbody tr th {\n",
       "        vertical-align: top;\n",
       "    }\n",
       "\n",
       "    .dataframe thead th {\n",
       "        text-align: right;\n",
       "    }\n",
       "</style>\n",
       "<table border=\"1\" class=\"dataframe\">\n",
       "  <thead>\n",
       "    <tr style=\"text-align: right;\">\n",
       "      <th></th>\n",
       "      <th>Unnamed: 0</th>\n",
       "      <th>Year</th>\n",
       "    </tr>\n",
       "  </thead>\n",
       "  <tbody>\n",
       "    <tr>\n",
       "      <th>count</th>\n",
       "      <td>3605.000000</td>\n",
       "      <td>3605.000000</td>\n",
       "    </tr>\n",
       "    <tr>\n",
       "      <th>mean</th>\n",
       "      <td>1802.000000</td>\n",
       "      <td>2006.600000</td>\n",
       "    </tr>\n",
       "    <tr>\n",
       "      <th>std</th>\n",
       "      <td>1040.818188</td>\n",
       "      <td>8.358192</td>\n",
       "    </tr>\n",
       "    <tr>\n",
       "      <th>min</th>\n",
       "      <td>0.000000</td>\n",
       "      <td>1991.000000</td>\n",
       "    </tr>\n",
       "    <tr>\n",
       "      <th>25%</th>\n",
       "      <td>901.000000</td>\n",
       "      <td>2006.000000</td>\n",
       "    </tr>\n",
       "    <tr>\n",
       "      <th>50%</th>\n",
       "      <td>1802.000000</td>\n",
       "      <td>2009.000000</td>\n",
       "    </tr>\n",
       "    <tr>\n",
       "      <th>75%</th>\n",
       "      <td>2703.000000</td>\n",
       "      <td>2012.000000</td>\n",
       "    </tr>\n",
       "    <tr>\n",
       "      <th>max</th>\n",
       "      <td>3604.000000</td>\n",
       "      <td>2015.000000</td>\n",
       "    </tr>\n",
       "  </tbody>\n",
       "</table>\n",
       "</div>"
      ],
      "text/plain": [
       "        Unnamed: 0         Year\n",
       "count  3605.000000  3605.000000\n",
       "mean   1802.000000  2006.600000\n",
       "std    1040.818188     8.358192\n",
       "min       0.000000  1991.000000\n",
       "25%     901.000000  2006.000000\n",
       "50%    1802.000000  2009.000000\n",
       "75%    2703.000000  2012.000000\n",
       "max    3604.000000  2015.000000"
      ]
     },
     "execution_count": 3,
     "metadata": {},
     "output_type": "execute_result"
    }
   ],
   "source": [
    "# TODO: Move this, only describes numerical columns\n",
    "df.describe()"
   ]
  },
  {
   "cell_type": "code",
   "execution_count": 4,
   "id": "1be47158",
   "metadata": {},
   "outputs": [],
   "source": [
    "# Drop first column (index) as Pandas dataframe already adds index\n",
    "df.drop(columns=df.columns[[0]], axis=1, inplace=True)"
   ]
  },
  {
   "cell_type": "code",
   "execution_count": 5,
   "id": "2c0de797",
   "metadata": {},
   "outputs": [],
   "source": [
    "# Rename columns\n",
    "df.rename(columns = {\n",
    "    'Variable': 'Variable',\n",
    "    'Year': 'Year',\n",
    "    'province': 'Province',\n",
    "    'value': 'Value',\n",
    "    'adm_level': 'Admin_Lvl',\n",
    "    'region': 'Region',\n",
    "    'unit': 'Unit'\n",
    "}, inplace=True)"
   ]
  },
  {
   "cell_type": "code",
   "execution_count": 16,
   "id": "28ee4de0",
   "metadata": {},
   "outputs": [
    {
     "data": {
      "text/html": [
       "<div>\n",
       "<style scoped>\n",
       "    .dataframe tbody tr th:only-of-type {\n",
       "        vertical-align: middle;\n",
       "    }\n",
       "\n",
       "    .dataframe tbody tr th {\n",
       "        vertical-align: top;\n",
       "    }\n",
       "\n",
       "    .dataframe thead th {\n",
       "        text-align: right;\n",
       "    }\n",
       "</style>\n",
       "<table border=\"1\" class=\"dataframe\">\n",
       "  <thead>\n",
       "    <tr style=\"text-align: right;\">\n",
       "      <th></th>\n",
       "      <th>Variable</th>\n",
       "      <th>Year</th>\n",
       "      <th>Province</th>\n",
       "      <th>Value</th>\n",
       "      <th>Admin_Lvl</th>\n",
       "      <th>Region</th>\n",
       "      <th>Unit</th>\n",
       "    </tr>\n",
       "  </thead>\n",
       "  <tbody>\n",
       "    <tr>\n",
       "      <th>0</th>\n",
       "      <td>Annual Per Capita Poverty Threshold (in Pesos)</td>\n",
       "      <td>1991</td>\n",
       "      <td>1st District</td>\n",
       "      <td>NaN</td>\n",
       "      <td>District</td>\n",
       "      <td>NCR</td>\n",
       "      <td>in Pesos</td>\n",
       "    </tr>\n",
       "    <tr>\n",
       "      <th>1</th>\n",
       "      <td>Annual Per Capita Poverty Threshold (in Pesos)</td>\n",
       "      <td>2006</td>\n",
       "      <td>1st District</td>\n",
       "      <td>15,699</td>\n",
       "      <td>District</td>\n",
       "      <td>NCR</td>\n",
       "      <td>in Pesos</td>\n",
       "    </tr>\n",
       "    <tr>\n",
       "      <th>2</th>\n",
       "      <td>Annual Per Capita Poverty Threshold (in Pesos)</td>\n",
       "      <td>2009</td>\n",
       "      <td>1st District</td>\n",
       "      <td>19,227</td>\n",
       "      <td>District</td>\n",
       "      <td>NCR</td>\n",
       "      <td>in Pesos</td>\n",
       "    </tr>\n",
       "    <tr>\n",
       "      <th>3</th>\n",
       "      <td>Annual Per Capita Poverty Threshold (in Pesos)</td>\n",
       "      <td>2012</td>\n",
       "      <td>1st District</td>\n",
       "      <td>20,344</td>\n",
       "      <td>District</td>\n",
       "      <td>NCR</td>\n",
       "      <td>in Pesos</td>\n",
       "    </tr>\n",
       "    <tr>\n",
       "      <th>4</th>\n",
       "      <td>Annual Per Capita Poverty Threshold (in Pesos)</td>\n",
       "      <td>2015</td>\n",
       "      <td>1st District</td>\n",
       "      <td>25,007</td>\n",
       "      <td>District</td>\n",
       "      <td>NCR</td>\n",
       "      <td>in Pesos</td>\n",
       "    </tr>\n",
       "    <tr>\n",
       "      <th>...</th>\n",
       "      <td>...</td>\n",
       "      <td>...</td>\n",
       "      <td>...</td>\n",
       "      <td>...</td>\n",
       "      <td>...</td>\n",
       "      <td>...</td>\n",
       "      <td>...</td>\n",
       "    </tr>\n",
       "    <tr>\n",
       "      <th>3600</th>\n",
       "      <td>Magnitude of Subsistence Poor Population</td>\n",
       "      <td>1991</td>\n",
       "      <td>Zamboanga del Sur</td>\n",
       "      <td>NaN</td>\n",
       "      <td>Province</td>\n",
       "      <td>Region IX</td>\n",
       "      <td>population</td>\n",
       "    </tr>\n",
       "    <tr>\n",
       "      <th>3601</th>\n",
       "      <td>Magnitude of Subsistence Poor Population</td>\n",
       "      <td>2006</td>\n",
       "      <td>Zamboanga del Sur</td>\n",
       "      <td>268,576</td>\n",
       "      <td>Province</td>\n",
       "      <td>Region IX</td>\n",
       "      <td>population</td>\n",
       "    </tr>\n",
       "    <tr>\n",
       "      <th>3602</th>\n",
       "      <td>Magnitude of Subsistence Poor Population</td>\n",
       "      <td>2009</td>\n",
       "      <td>Zamboanga del Sur</td>\n",
       "      <td>261,992</td>\n",
       "      <td>Province</td>\n",
       "      <td>Region IX</td>\n",
       "      <td>population</td>\n",
       "    </tr>\n",
       "    <tr>\n",
       "      <th>3603</th>\n",
       "      <td>Magnitude of Subsistence Poor Population</td>\n",
       "      <td>2012</td>\n",
       "      <td>Zamboanga del Sur</td>\n",
       "      <td>209,765</td>\n",
       "      <td>Province</td>\n",
       "      <td>Region IX</td>\n",
       "      <td>population</td>\n",
       "    </tr>\n",
       "    <tr>\n",
       "      <th>3604</th>\n",
       "      <td>Magnitude of Subsistence Poor Population</td>\n",
       "      <td>2015</td>\n",
       "      <td>Zamboanga del Sur</td>\n",
       "      <td>143,740</td>\n",
       "      <td>Province</td>\n",
       "      <td>Region IX</td>\n",
       "      <td>population</td>\n",
       "    </tr>\n",
       "  </tbody>\n",
       "</table>\n",
       "<p>3605 rows × 7 columns</p>\n",
       "</div>"
      ],
      "text/plain": [
       "                                            Variable  Year           Province  \\\n",
       "0     Annual Per Capita Poverty Threshold (in Pesos)  1991       1st District   \n",
       "1     Annual Per Capita Poverty Threshold (in Pesos)  2006       1st District   \n",
       "2     Annual Per Capita Poverty Threshold (in Pesos)  2009       1st District   \n",
       "3     Annual Per Capita Poverty Threshold (in Pesos)  2012       1st District   \n",
       "4     Annual Per Capita Poverty Threshold (in Pesos)  2015       1st District   \n",
       "...                                              ...   ...                ...   \n",
       "3600        Magnitude of Subsistence Poor Population  1991  Zamboanga del Sur   \n",
       "3601        Magnitude of Subsistence Poor Population  2006  Zamboanga del Sur   \n",
       "3602        Magnitude of Subsistence Poor Population  2009  Zamboanga del Sur   \n",
       "3603        Magnitude of Subsistence Poor Population  2012  Zamboanga del Sur   \n",
       "3604        Magnitude of Subsistence Poor Population  2015  Zamboanga del Sur   \n",
       "\n",
       "           Value Admin_Lvl     Region        Unit  \n",
       "0            NaN  District        NCR    in Pesos  \n",
       "1        15,699   District        NCR    in Pesos  \n",
       "2        19,227   District        NCR    in Pesos  \n",
       "3        20,344   District        NCR    in Pesos  \n",
       "4        25,007   District        NCR    in Pesos  \n",
       "...          ...       ...        ...         ...  \n",
       "3600         NaN  Province  Region IX  population  \n",
       "3601    268,576   Province  Region IX  population  \n",
       "3602    261,992   Province  Region IX  population  \n",
       "3603    209,765   Province  Region IX  population  \n",
       "3604    143,740   Province  Region IX  population  \n",
       "\n",
       "[3605 rows x 7 columns]"
      ]
     },
     "execution_count": 16,
     "metadata": {},
     "output_type": "execute_result"
    }
   ],
   "source": [
    "df"
   ]
  },
  {
   "cell_type": "markdown",
   "id": "43539abb",
   "metadata": {},
   "source": [
    "### Inspect unique values"
   ]
  },
  {
   "cell_type": "code",
   "execution_count": 6,
   "id": "b7b734b8",
   "metadata": {},
   "outputs": [
    {
     "name": "stdout",
     "output_type": "stream",
     "text": [
      "Unique value counts per column:\n"
     ]
    },
    {
     "data": {
      "text/plain": [
       "Variable        7\n",
       "Year            5\n",
       "Province      103\n",
       "Value        2168\n",
       "Admin_Lvl       4\n",
       "Region         18\n",
       "Unit            4\n",
       "dtype: int64"
      ]
     },
     "execution_count": 6,
     "metadata": {},
     "output_type": "execute_result"
    }
   ],
   "source": [
    "# Print counts of unique values per column\n",
    "print(\"Unique value counts per column:\")\n",
    "df.nunique()"
   ]
  },
  {
   "cell_type": "code",
   "execution_count": 7,
   "id": "0653eaec",
   "metadata": {},
   "outputs": [],
   "source": [
    "# List unique values per column\n",
    "unique_vars = df['Variable'].unique().tolist()\n",
    "unique_years = df['Year'].unique().tolist()\n",
    "unique_admins = df['Admin_Lvl'].unique().tolist()\n",
    "unique_regions = df['Region'].unique().tolist()\n",
    "unique_units = df['Unit'].unique().tolist()"
   ]
  },
  {
   "cell_type": "code",
   "execution_count": 8,
   "id": "15cd95b8",
   "metadata": {},
   "outputs": [
    {
     "name": "stdout",
     "output_type": "stream",
     "text": [
      "Unique values in Variable:\n",
      "Annual Per Capita Poverty Threshold (in Pesos)\n",
      "Poverty Incidence among Families (%)\n",
      "Magnitude of Poor Families\n",
      "Poverty Incidence among Population (%)\n",
      "Magnitude of Poor Population\n",
      "Subsistence Incidence among Population (%)\n",
      "Magnitude of Subsistence Poor Population\n"
     ]
    }
   ],
   "source": [
    "print(\"Unique values in Variable:\")\n",
    "print(\"\\n\".join(map(str, unique_vars)))"
   ]
  },
  {
   "cell_type": "code",
   "execution_count": 9,
   "id": "86bdcbd0",
   "metadata": {},
   "outputs": [
    {
     "name": "stdout",
     "output_type": "stream",
     "text": [
      "Unique values in Year:\n",
      "1991\n",
      "2006\n",
      "2009\n",
      "2012\n",
      "2015\n"
     ]
    }
   ],
   "source": [
    "print(\"Unique values in Year:\")\n",
    "print(\"\\n\".join(map(str, unique_years)))"
   ]
  },
  {
   "cell_type": "code",
   "execution_count": 10,
   "id": "2b2eaae5",
   "metadata": {},
   "outputs": [
    {
     "name": "stdout",
     "output_type": "stream",
     "text": [
      "Unique values in Admin_Lvl:\n",
      "District\n",
      "Region\n",
      "Province\n",
      "nan\n",
      "Country\n"
     ]
    }
   ],
   "source": [
    "print(\"Unique values in Admin_Lvl:\")\n",
    "print(\"\\n\".join(map(str, unique_admins)))"
   ]
  },
  {
   "cell_type": "code",
   "execution_count": 11,
   "id": "cf2b39a5",
   "metadata": {},
   "outputs": [
    {
     "name": "stdout",
     "output_type": "stream",
     "text": [
      "Unique values in Region:\n",
      "NCR\n",
      "ARMM\n",
      "CAR\n",
      "CARAGA\n",
      "Region VI\n",
      "Region V\n",
      "nan\n",
      "Region III\n",
      "Region VI-A\n",
      "Region VIII\n",
      "Region VII\n",
      "Region X\n",
      "Region II\n",
      "Region XI\n",
      "Region I\n",
      "Region IV-B\n",
      "Region XII\n",
      "Philippines\n",
      "Region IX\n"
     ]
    }
   ],
   "source": [
    "print(\"Unique values in Region:\")\n",
    "print(\"\\n\".join(map(str, unique_regions)))"
   ]
  },
  {
   "cell_type": "code",
   "execution_count": 12,
   "id": "4280d708",
   "metadata": {},
   "outputs": [
    {
     "name": "stdout",
     "output_type": "stream",
     "text": [
      "Unique values in Unit:\n",
      "in Pesos\n",
      "%\n",
      "families\n",
      "population\n"
     ]
    }
   ],
   "source": [
    "print(\"Unique values in Unit:\")\n",
    "print(\"\\n\".join(map(str, unique_units)))"
   ]
  },
  {
   "cell_type": "markdown",
   "id": "01dcd15b",
   "metadata": {},
   "source": [
    "### Inspect missing values"
   ]
  },
  {
   "cell_type": "markdown",
   "id": "98ea9a35",
   "metadata": {},
   "source": [
    "To cast the ```Value``` column into a numerical data type, I first inspect which entries may cause trouble with type conversion."
   ]
  },
  {
   "cell_type": "code",
   "execution_count": 14,
   "id": "2acabee4",
   "metadata": {},
   "outputs": [
    {
     "data": {
      "text/plain": [
       "array([nan, '  15,699 ', '  19,227 ', ..., '  261,992 ', '  209,765 ',\n",
       "       '  143,740 '], dtype=object)"
      ]
     },
     "execution_count": 14,
     "metadata": {},
     "output_type": "execute_result"
    }
   ],
   "source": [
    "#tmp = df['Value'].str.isdigit()\n",
    "#tmp.loc('NaN')\n",
    "\n",
    "df[pd.to_numeric(df['Value'], errors='coerce').isnull()]['Value'].unique()"
   ]
  },
  {
   "cell_type": "code",
   "execution_count": 13,
   "id": "dc89b548",
   "metadata": {},
   "outputs": [],
   "source": [
    "#df['Value'] = df['Value'].str.strip()\n",
    "#df['Value'] = df['Value'].str.replace(\",\", \"\")"
   ]
  },
  {
   "cell_type": "code",
   "execution_count": 15,
   "id": "ead2322d",
   "metadata": {},
   "outputs": [
    {
     "ename": "ValueError",
     "evalue": "could not convert string to float: '  15,699 '",
     "output_type": "error",
     "traceback": [
      "\u001b[1;31m---------------------------------------------------------------------------\u001b[0m",
      "\u001b[1;31mValueError\u001b[0m                                Traceback (most recent call last)",
      "\u001b[1;32m~\\AppData\\Local\\Temp\\ipykernel_22432\\1420697254.py\u001b[0m in \u001b[0;36m<module>\u001b[1;34m\u001b[0m\n\u001b[0;32m      1\u001b[0m \u001b[1;31m# In the .csv file, Value entries are formatted as strings or empty characters\u001b[0m\u001b[1;33m\u001b[0m\u001b[1;33m\u001b[0m\u001b[0m\n\u001b[0;32m      2\u001b[0m \u001b[1;31m# Strip whitespace around values\u001b[0m\u001b[1;33m\u001b[0m\u001b[1;33m\u001b[0m\u001b[0m\n\u001b[1;32m----> 3\u001b[1;33m \u001b[0mdf\u001b[0m\u001b[1;33m.\u001b[0m\u001b[0mValue\u001b[0m \u001b[1;33m=\u001b[0m \u001b[0mdf\u001b[0m\u001b[1;33m.\u001b[0m\u001b[0mValue\u001b[0m\u001b[1;33m.\u001b[0m\u001b[0mastype\u001b[0m\u001b[1;33m(\u001b[0m\u001b[0mfloat\u001b[0m\u001b[1;33m)\u001b[0m\u001b[1;33m\u001b[0m\u001b[1;33m\u001b[0m\u001b[0m\n\u001b[0m",
      "\u001b[1;32m~\\anaconda3\\lib\\site-packages\\pandas\\core\\generic.py\u001b[0m in \u001b[0;36mastype\u001b[1;34m(self, dtype, copy, errors)\u001b[0m\n\u001b[0;32m   5910\u001b[0m         \u001b[1;32melse\u001b[0m\u001b[1;33m:\u001b[0m\u001b[1;33m\u001b[0m\u001b[1;33m\u001b[0m\u001b[0m\n\u001b[0;32m   5911\u001b[0m             \u001b[1;31m# else, only a single dtype is given\u001b[0m\u001b[1;33m\u001b[0m\u001b[1;33m\u001b[0m\u001b[0m\n\u001b[1;32m-> 5912\u001b[1;33m             \u001b[0mnew_data\u001b[0m \u001b[1;33m=\u001b[0m \u001b[0mself\u001b[0m\u001b[1;33m.\u001b[0m\u001b[0m_mgr\u001b[0m\u001b[1;33m.\u001b[0m\u001b[0mastype\u001b[0m\u001b[1;33m(\u001b[0m\u001b[0mdtype\u001b[0m\u001b[1;33m=\u001b[0m\u001b[0mdtype\u001b[0m\u001b[1;33m,\u001b[0m \u001b[0mcopy\u001b[0m\u001b[1;33m=\u001b[0m\u001b[0mcopy\u001b[0m\u001b[1;33m,\u001b[0m \u001b[0merrors\u001b[0m\u001b[1;33m=\u001b[0m\u001b[0merrors\u001b[0m\u001b[1;33m)\u001b[0m\u001b[1;33m\u001b[0m\u001b[1;33m\u001b[0m\u001b[0m\n\u001b[0m\u001b[0;32m   5913\u001b[0m             \u001b[1;32mreturn\u001b[0m \u001b[0mself\u001b[0m\u001b[1;33m.\u001b[0m\u001b[0m_constructor\u001b[0m\u001b[1;33m(\u001b[0m\u001b[0mnew_data\u001b[0m\u001b[1;33m)\u001b[0m\u001b[1;33m.\u001b[0m\u001b[0m__finalize__\u001b[0m\u001b[1;33m(\u001b[0m\u001b[0mself\u001b[0m\u001b[1;33m,\u001b[0m \u001b[0mmethod\u001b[0m\u001b[1;33m=\u001b[0m\u001b[1;34m\"astype\"\u001b[0m\u001b[1;33m)\u001b[0m\u001b[1;33m\u001b[0m\u001b[1;33m\u001b[0m\u001b[0m\n\u001b[0;32m   5914\u001b[0m \u001b[1;33m\u001b[0m\u001b[0m\n",
      "\u001b[1;32m~\\anaconda3\\lib\\site-packages\\pandas\\core\\internals\\managers.py\u001b[0m in \u001b[0;36mastype\u001b[1;34m(self, dtype, copy, errors)\u001b[0m\n\u001b[0;32m    417\u001b[0m \u001b[1;33m\u001b[0m\u001b[0m\n\u001b[0;32m    418\u001b[0m     \u001b[1;32mdef\u001b[0m \u001b[0mastype\u001b[0m\u001b[1;33m(\u001b[0m\u001b[0mself\u001b[0m\u001b[1;33m:\u001b[0m \u001b[0mT\u001b[0m\u001b[1;33m,\u001b[0m \u001b[0mdtype\u001b[0m\u001b[1;33m,\u001b[0m \u001b[0mcopy\u001b[0m\u001b[1;33m:\u001b[0m \u001b[0mbool\u001b[0m \u001b[1;33m=\u001b[0m \u001b[1;32mFalse\u001b[0m\u001b[1;33m,\u001b[0m \u001b[0merrors\u001b[0m\u001b[1;33m:\u001b[0m \u001b[0mstr\u001b[0m \u001b[1;33m=\u001b[0m \u001b[1;34m\"raise\"\u001b[0m\u001b[1;33m)\u001b[0m \u001b[1;33m->\u001b[0m \u001b[0mT\u001b[0m\u001b[1;33m:\u001b[0m\u001b[1;33m\u001b[0m\u001b[1;33m\u001b[0m\u001b[0m\n\u001b[1;32m--> 419\u001b[1;33m         \u001b[1;32mreturn\u001b[0m \u001b[0mself\u001b[0m\u001b[1;33m.\u001b[0m\u001b[0mapply\u001b[0m\u001b[1;33m(\u001b[0m\u001b[1;34m\"astype\"\u001b[0m\u001b[1;33m,\u001b[0m \u001b[0mdtype\u001b[0m\u001b[1;33m=\u001b[0m\u001b[0mdtype\u001b[0m\u001b[1;33m,\u001b[0m \u001b[0mcopy\u001b[0m\u001b[1;33m=\u001b[0m\u001b[0mcopy\u001b[0m\u001b[1;33m,\u001b[0m \u001b[0merrors\u001b[0m\u001b[1;33m=\u001b[0m\u001b[0merrors\u001b[0m\u001b[1;33m)\u001b[0m\u001b[1;33m\u001b[0m\u001b[1;33m\u001b[0m\u001b[0m\n\u001b[0m\u001b[0;32m    420\u001b[0m \u001b[1;33m\u001b[0m\u001b[0m\n\u001b[0;32m    421\u001b[0m     def convert(\n",
      "\u001b[1;32m~\\anaconda3\\lib\\site-packages\\pandas\\core\\internals\\managers.py\u001b[0m in \u001b[0;36mapply\u001b[1;34m(self, f, align_keys, ignore_failures, **kwargs)\u001b[0m\n\u001b[0;32m    302\u001b[0m                     \u001b[0mapplied\u001b[0m \u001b[1;33m=\u001b[0m \u001b[0mb\u001b[0m\u001b[1;33m.\u001b[0m\u001b[0mapply\u001b[0m\u001b[1;33m(\u001b[0m\u001b[0mf\u001b[0m\u001b[1;33m,\u001b[0m \u001b[1;33m**\u001b[0m\u001b[0mkwargs\u001b[0m\u001b[1;33m)\u001b[0m\u001b[1;33m\u001b[0m\u001b[1;33m\u001b[0m\u001b[0m\n\u001b[0;32m    303\u001b[0m                 \u001b[1;32melse\u001b[0m\u001b[1;33m:\u001b[0m\u001b[1;33m\u001b[0m\u001b[1;33m\u001b[0m\u001b[0m\n\u001b[1;32m--> 304\u001b[1;33m                     \u001b[0mapplied\u001b[0m \u001b[1;33m=\u001b[0m \u001b[0mgetattr\u001b[0m\u001b[1;33m(\u001b[0m\u001b[0mb\u001b[0m\u001b[1;33m,\u001b[0m \u001b[0mf\u001b[0m\u001b[1;33m)\u001b[0m\u001b[1;33m(\u001b[0m\u001b[1;33m**\u001b[0m\u001b[0mkwargs\u001b[0m\u001b[1;33m)\u001b[0m\u001b[1;33m\u001b[0m\u001b[1;33m\u001b[0m\u001b[0m\n\u001b[0m\u001b[0;32m    305\u001b[0m             \u001b[1;32mexcept\u001b[0m \u001b[1;33m(\u001b[0m\u001b[0mTypeError\u001b[0m\u001b[1;33m,\u001b[0m \u001b[0mNotImplementedError\u001b[0m\u001b[1;33m)\u001b[0m\u001b[1;33m:\u001b[0m\u001b[1;33m\u001b[0m\u001b[1;33m\u001b[0m\u001b[0m\n\u001b[0;32m    306\u001b[0m                 \u001b[1;32mif\u001b[0m \u001b[1;32mnot\u001b[0m \u001b[0mignore_failures\u001b[0m\u001b[1;33m:\u001b[0m\u001b[1;33m\u001b[0m\u001b[1;33m\u001b[0m\u001b[0m\n",
      "\u001b[1;32m~\\anaconda3\\lib\\site-packages\\pandas\\core\\internals\\blocks.py\u001b[0m in \u001b[0;36mastype\u001b[1;34m(self, dtype, copy, errors)\u001b[0m\n\u001b[0;32m    578\u001b[0m         \u001b[0mvalues\u001b[0m \u001b[1;33m=\u001b[0m \u001b[0mself\u001b[0m\u001b[1;33m.\u001b[0m\u001b[0mvalues\u001b[0m\u001b[1;33m\u001b[0m\u001b[1;33m\u001b[0m\u001b[0m\n\u001b[0;32m    579\u001b[0m \u001b[1;33m\u001b[0m\u001b[0m\n\u001b[1;32m--> 580\u001b[1;33m         \u001b[0mnew_values\u001b[0m \u001b[1;33m=\u001b[0m \u001b[0mastype_array_safe\u001b[0m\u001b[1;33m(\u001b[0m\u001b[0mvalues\u001b[0m\u001b[1;33m,\u001b[0m \u001b[0mdtype\u001b[0m\u001b[1;33m,\u001b[0m \u001b[0mcopy\u001b[0m\u001b[1;33m=\u001b[0m\u001b[0mcopy\u001b[0m\u001b[1;33m,\u001b[0m \u001b[0merrors\u001b[0m\u001b[1;33m=\u001b[0m\u001b[0merrors\u001b[0m\u001b[1;33m)\u001b[0m\u001b[1;33m\u001b[0m\u001b[1;33m\u001b[0m\u001b[0m\n\u001b[0m\u001b[0;32m    581\u001b[0m \u001b[1;33m\u001b[0m\u001b[0m\n\u001b[0;32m    582\u001b[0m         \u001b[0mnew_values\u001b[0m \u001b[1;33m=\u001b[0m \u001b[0mmaybe_coerce_values\u001b[0m\u001b[1;33m(\u001b[0m\u001b[0mnew_values\u001b[0m\u001b[1;33m)\u001b[0m\u001b[1;33m\u001b[0m\u001b[1;33m\u001b[0m\u001b[0m\n",
      "\u001b[1;32m~\\anaconda3\\lib\\site-packages\\pandas\\core\\dtypes\\cast.py\u001b[0m in \u001b[0;36mastype_array_safe\u001b[1;34m(values, dtype, copy, errors)\u001b[0m\n\u001b[0;32m   1290\u001b[0m \u001b[1;33m\u001b[0m\u001b[0m\n\u001b[0;32m   1291\u001b[0m     \u001b[1;32mtry\u001b[0m\u001b[1;33m:\u001b[0m\u001b[1;33m\u001b[0m\u001b[1;33m\u001b[0m\u001b[0m\n\u001b[1;32m-> 1292\u001b[1;33m         \u001b[0mnew_values\u001b[0m \u001b[1;33m=\u001b[0m \u001b[0mastype_array\u001b[0m\u001b[1;33m(\u001b[0m\u001b[0mvalues\u001b[0m\u001b[1;33m,\u001b[0m \u001b[0mdtype\u001b[0m\u001b[1;33m,\u001b[0m \u001b[0mcopy\u001b[0m\u001b[1;33m=\u001b[0m\u001b[0mcopy\u001b[0m\u001b[1;33m)\u001b[0m\u001b[1;33m\u001b[0m\u001b[1;33m\u001b[0m\u001b[0m\n\u001b[0m\u001b[0;32m   1293\u001b[0m     \u001b[1;32mexcept\u001b[0m \u001b[1;33m(\u001b[0m\u001b[0mValueError\u001b[0m\u001b[1;33m,\u001b[0m \u001b[0mTypeError\u001b[0m\u001b[1;33m)\u001b[0m\u001b[1;33m:\u001b[0m\u001b[1;33m\u001b[0m\u001b[1;33m\u001b[0m\u001b[0m\n\u001b[0;32m   1294\u001b[0m         \u001b[1;31m# e.g. astype_nansafe can fail on object-dtype of strings\u001b[0m\u001b[1;33m\u001b[0m\u001b[1;33m\u001b[0m\u001b[0m\n",
      "\u001b[1;32m~\\anaconda3\\lib\\site-packages\\pandas\\core\\dtypes\\cast.py\u001b[0m in \u001b[0;36mastype_array\u001b[1;34m(values, dtype, copy)\u001b[0m\n\u001b[0;32m   1235\u001b[0m \u001b[1;33m\u001b[0m\u001b[0m\n\u001b[0;32m   1236\u001b[0m     \u001b[1;32melse\u001b[0m\u001b[1;33m:\u001b[0m\u001b[1;33m\u001b[0m\u001b[1;33m\u001b[0m\u001b[0m\n\u001b[1;32m-> 1237\u001b[1;33m         \u001b[0mvalues\u001b[0m \u001b[1;33m=\u001b[0m \u001b[0mastype_nansafe\u001b[0m\u001b[1;33m(\u001b[0m\u001b[0mvalues\u001b[0m\u001b[1;33m,\u001b[0m \u001b[0mdtype\u001b[0m\u001b[1;33m,\u001b[0m \u001b[0mcopy\u001b[0m\u001b[1;33m=\u001b[0m\u001b[0mcopy\u001b[0m\u001b[1;33m)\u001b[0m\u001b[1;33m\u001b[0m\u001b[1;33m\u001b[0m\u001b[0m\n\u001b[0m\u001b[0;32m   1238\u001b[0m \u001b[1;33m\u001b[0m\u001b[0m\n\u001b[0;32m   1239\u001b[0m     \u001b[1;31m# in pandas we don't store numpy str dtypes, so convert to object\u001b[0m\u001b[1;33m\u001b[0m\u001b[1;33m\u001b[0m\u001b[0m\n",
      "\u001b[1;32m~\\anaconda3\\lib\\site-packages\\pandas\\core\\dtypes\\cast.py\u001b[0m in \u001b[0;36mastype_nansafe\u001b[1;34m(arr, dtype, copy, skipna)\u001b[0m\n\u001b[0;32m   1179\u001b[0m     \u001b[1;32mif\u001b[0m \u001b[0mcopy\u001b[0m \u001b[1;32mor\u001b[0m \u001b[0mis_object_dtype\u001b[0m\u001b[1;33m(\u001b[0m\u001b[0marr\u001b[0m\u001b[1;33m.\u001b[0m\u001b[0mdtype\u001b[0m\u001b[1;33m)\u001b[0m \u001b[1;32mor\u001b[0m \u001b[0mis_object_dtype\u001b[0m\u001b[1;33m(\u001b[0m\u001b[0mdtype\u001b[0m\u001b[1;33m)\u001b[0m\u001b[1;33m:\u001b[0m\u001b[1;33m\u001b[0m\u001b[1;33m\u001b[0m\u001b[0m\n\u001b[0;32m   1180\u001b[0m         \u001b[1;31m# Explicit copy, or required since NumPy can't view from / to object.\u001b[0m\u001b[1;33m\u001b[0m\u001b[1;33m\u001b[0m\u001b[0m\n\u001b[1;32m-> 1181\u001b[1;33m         \u001b[1;32mreturn\u001b[0m \u001b[0marr\u001b[0m\u001b[1;33m.\u001b[0m\u001b[0mastype\u001b[0m\u001b[1;33m(\u001b[0m\u001b[0mdtype\u001b[0m\u001b[1;33m,\u001b[0m \u001b[0mcopy\u001b[0m\u001b[1;33m=\u001b[0m\u001b[1;32mTrue\u001b[0m\u001b[1;33m)\u001b[0m\u001b[1;33m\u001b[0m\u001b[1;33m\u001b[0m\u001b[0m\n\u001b[0m\u001b[0;32m   1182\u001b[0m \u001b[1;33m\u001b[0m\u001b[0m\n\u001b[0;32m   1183\u001b[0m     \u001b[1;32mreturn\u001b[0m \u001b[0marr\u001b[0m\u001b[1;33m.\u001b[0m\u001b[0mastype\u001b[0m\u001b[1;33m(\u001b[0m\u001b[0mdtype\u001b[0m\u001b[1;33m,\u001b[0m \u001b[0mcopy\u001b[0m\u001b[1;33m=\u001b[0m\u001b[0mcopy\u001b[0m\u001b[1;33m)\u001b[0m\u001b[1;33m\u001b[0m\u001b[1;33m\u001b[0m\u001b[0m\n",
      "\u001b[1;31mValueError\u001b[0m: could not convert string to float: '  15,699 '"
     ]
    }
   ],
   "source": [
    "# In the .csv file, Value entries are formatted as strings or empty characters\n",
    "# Strip whitespace around values\n",
    "df.Value = df.Value.astype(float)"
   ]
  },
  {
   "cell_type": "code",
   "execution_count": null,
   "id": "831384e6",
   "metadata": {},
   "outputs": [],
   "source": [
    "# Convert object datatypes into more relevant ones\n",
    "df = df.astype({\n",
    "    'Variable': 'category',\n",
    "    'Year': 'int64',\n",
    "    'Province': 'category',\n",
    "    'Value': 'float64',\n",
    "    'Admin_Lvl': 'category',\n",
    "    'Region': 'category',\n",
    "    'Unit': 'category'\n",
    "})"
   ]
  },
  {
   "cell_type": "code",
   "execution_count": null,
   "id": "a01ad245",
   "metadata": {},
   "outputs": [],
   "source": [
    "# Inspect general information about dataset\n",
    "df.info()"
   ]
  },
  {
   "cell_type": "code",
   "execution_count": null,
   "id": "a8c3d4a8",
   "metadata": {},
   "outputs": [],
   "source": [
    "# Show totals of missing values per column \n",
    "total = df.isnull().sum().sort_values(ascending=False)\n",
    "percent = (df.isnull().sum()/df.isnull().count()).sort_values(ascending=False)\n",
    "missing_data = pd.concat([total, percent], axis=1, keys=['Total', 'Percent'])\n",
    "missing_data"
   ]
  },
  {
   "cell_type": "markdown",
   "id": "486715ee",
   "metadata": {},
   "source": [
    "From above, the missing values appear to be linked to either the variable the value is referring to or certain regions/administration levels."
   ]
  }
 ],
 "metadata": {
  "kernelspec": {
   "display_name": "Python 3 (ipykernel)",
   "language": "python",
   "name": "python3"
  },
  "language_info": {
   "codemirror_mode": {
    "name": "ipython",
    "version": 3
   },
   "file_extension": ".py",
   "mimetype": "text/x-python",
   "name": "python",
   "nbconvert_exporter": "python",
   "pygments_lexer": "ipython3",
   "version": "3.9.13"
  }
 },
 "nbformat": 4,
 "nbformat_minor": 5
}
