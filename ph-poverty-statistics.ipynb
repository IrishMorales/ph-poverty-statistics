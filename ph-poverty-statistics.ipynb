{
 "cells": [
  {
   "cell_type": "markdown",
   "id": "811055af",
   "metadata": {},
   "source": [
    "# Philippine Poverty Statistics - EDA"
   ]
  },
  {
   "cell_type": "markdown",
   "id": "cc3e438d",
   "metadata": {},
   "source": [
    "## Read Data"
   ]
  },
  {
   "cell_type": "code",
   "execution_count": 1,
   "id": "2ba5b9ab",
   "metadata": {},
   "outputs": [],
   "source": [
    "import pandas as pd\n",
    "import numpy as np\n",
    "import seaborn as sns\n",
    "import matplotlib.pyplot as plt"
   ]
  },
  {
   "cell_type": "code",
   "execution_count": 2,
   "id": "f16a131f",
   "metadata": {},
   "outputs": [
    {
     "data": {
      "text/html": [
       "<div>\n",
       "<style scoped>\n",
       "    .dataframe tbody tr th:only-of-type {\n",
       "        vertical-align: middle;\n",
       "    }\n",
       "\n",
       "    .dataframe tbody tr th {\n",
       "        vertical-align: top;\n",
       "    }\n",
       "\n",
       "    .dataframe thead th {\n",
       "        text-align: right;\n",
       "    }\n",
       "</style>\n",
       "<table border=\"1\" class=\"dataframe\">\n",
       "  <thead>\n",
       "    <tr style=\"text-align: right;\">\n",
       "      <th></th>\n",
       "      <th>Unnamed: 0</th>\n",
       "      <th>Variable</th>\n",
       "      <th>Year</th>\n",
       "      <th>province</th>\n",
       "      <th>value</th>\n",
       "      <th>adm_level</th>\n",
       "      <th>region</th>\n",
       "      <th>unit</th>\n",
       "    </tr>\n",
       "  </thead>\n",
       "  <tbody>\n",
       "    <tr>\n",
       "      <th>0</th>\n",
       "      <td>0</td>\n",
       "      <td>Annual Per Capita Poverty Threshold (in Pesos)</td>\n",
       "      <td>1991</td>\n",
       "      <td>1st District</td>\n",
       "      <td>NaN</td>\n",
       "      <td>District</td>\n",
       "      <td>NCR</td>\n",
       "      <td>in Pesos</td>\n",
       "    </tr>\n",
       "    <tr>\n",
       "      <th>1</th>\n",
       "      <td>1</td>\n",
       "      <td>Annual Per Capita Poverty Threshold (in Pesos)</td>\n",
       "      <td>2006</td>\n",
       "      <td>1st District</td>\n",
       "      <td>15,699</td>\n",
       "      <td>District</td>\n",
       "      <td>NCR</td>\n",
       "      <td>in Pesos</td>\n",
       "    </tr>\n",
       "    <tr>\n",
       "      <th>2</th>\n",
       "      <td>2</td>\n",
       "      <td>Annual Per Capita Poverty Threshold (in Pesos)</td>\n",
       "      <td>2009</td>\n",
       "      <td>1st District</td>\n",
       "      <td>19,227</td>\n",
       "      <td>District</td>\n",
       "      <td>NCR</td>\n",
       "      <td>in Pesos</td>\n",
       "    </tr>\n",
       "    <tr>\n",
       "      <th>3</th>\n",
       "      <td>3</td>\n",
       "      <td>Annual Per Capita Poverty Threshold (in Pesos)</td>\n",
       "      <td>2012</td>\n",
       "      <td>1st District</td>\n",
       "      <td>20,344</td>\n",
       "      <td>District</td>\n",
       "      <td>NCR</td>\n",
       "      <td>in Pesos</td>\n",
       "    </tr>\n",
       "    <tr>\n",
       "      <th>4</th>\n",
       "      <td>4</td>\n",
       "      <td>Annual Per Capita Poverty Threshold (in Pesos)</td>\n",
       "      <td>2015</td>\n",
       "      <td>1st District</td>\n",
       "      <td>25,007</td>\n",
       "      <td>District</td>\n",
       "      <td>NCR</td>\n",
       "      <td>in Pesos</td>\n",
       "    </tr>\n",
       "    <tr>\n",
       "      <th>...</th>\n",
       "      <td>...</td>\n",
       "      <td>...</td>\n",
       "      <td>...</td>\n",
       "      <td>...</td>\n",
       "      <td>...</td>\n",
       "      <td>...</td>\n",
       "      <td>...</td>\n",
       "      <td>...</td>\n",
       "    </tr>\n",
       "    <tr>\n",
       "      <th>3600</th>\n",
       "      <td>3600</td>\n",
       "      <td>Magnitude of Subsistence Poor Population</td>\n",
       "      <td>1991</td>\n",
       "      <td>Zamboanga del Sur</td>\n",
       "      <td>NaN</td>\n",
       "      <td>Province</td>\n",
       "      <td>Region IX</td>\n",
       "      <td>population</td>\n",
       "    </tr>\n",
       "    <tr>\n",
       "      <th>3601</th>\n",
       "      <td>3601</td>\n",
       "      <td>Magnitude of Subsistence Poor Population</td>\n",
       "      <td>2006</td>\n",
       "      <td>Zamboanga del Sur</td>\n",
       "      <td>268,576</td>\n",
       "      <td>Province</td>\n",
       "      <td>Region IX</td>\n",
       "      <td>population</td>\n",
       "    </tr>\n",
       "    <tr>\n",
       "      <th>3602</th>\n",
       "      <td>3602</td>\n",
       "      <td>Magnitude of Subsistence Poor Population</td>\n",
       "      <td>2009</td>\n",
       "      <td>Zamboanga del Sur</td>\n",
       "      <td>261,992</td>\n",
       "      <td>Province</td>\n",
       "      <td>Region IX</td>\n",
       "      <td>population</td>\n",
       "    </tr>\n",
       "    <tr>\n",
       "      <th>3603</th>\n",
       "      <td>3603</td>\n",
       "      <td>Magnitude of Subsistence Poor Population</td>\n",
       "      <td>2012</td>\n",
       "      <td>Zamboanga del Sur</td>\n",
       "      <td>209,765</td>\n",
       "      <td>Province</td>\n",
       "      <td>Region IX</td>\n",
       "      <td>population</td>\n",
       "    </tr>\n",
       "    <tr>\n",
       "      <th>3604</th>\n",
       "      <td>3604</td>\n",
       "      <td>Magnitude of Subsistence Poor Population</td>\n",
       "      <td>2015</td>\n",
       "      <td>Zamboanga del Sur</td>\n",
       "      <td>143,740</td>\n",
       "      <td>Province</td>\n",
       "      <td>Region IX</td>\n",
       "      <td>population</td>\n",
       "    </tr>\n",
       "  </tbody>\n",
       "</table>\n",
       "<p>3605 rows × 8 columns</p>\n",
       "</div>"
      ],
      "text/plain": [
       "      Unnamed: 0                                        Variable  Year  \\\n",
       "0              0  Annual Per Capita Poverty Threshold (in Pesos)  1991   \n",
       "1              1  Annual Per Capita Poverty Threshold (in Pesos)  2006   \n",
       "2              2  Annual Per Capita Poverty Threshold (in Pesos)  2009   \n",
       "3              3  Annual Per Capita Poverty Threshold (in Pesos)  2012   \n",
       "4              4  Annual Per Capita Poverty Threshold (in Pesos)  2015   \n",
       "...          ...                                             ...   ...   \n",
       "3600        3600        Magnitude of Subsistence Poor Population  1991   \n",
       "3601        3601        Magnitude of Subsistence Poor Population  2006   \n",
       "3602        3602        Magnitude of Subsistence Poor Population  2009   \n",
       "3603        3603        Magnitude of Subsistence Poor Population  2012   \n",
       "3604        3604        Magnitude of Subsistence Poor Population  2015   \n",
       "\n",
       "               province       value adm_level     region        unit  \n",
       "0          1st District         NaN  District        NCR    in Pesos  \n",
       "1          1st District     15,699   District        NCR    in Pesos  \n",
       "2          1st District     19,227   District        NCR    in Pesos  \n",
       "3          1st District     20,344   District        NCR    in Pesos  \n",
       "4          1st District     25,007   District        NCR    in Pesos  \n",
       "...                 ...         ...       ...        ...         ...  \n",
       "3600  Zamboanga del Sur         NaN  Province  Region IX  population  \n",
       "3601  Zamboanga del Sur    268,576   Province  Region IX  population  \n",
       "3602  Zamboanga del Sur    261,992   Province  Region IX  population  \n",
       "3603  Zamboanga del Sur    209,765   Province  Region IX  population  \n",
       "3604  Zamboanga del Sur    143,740   Province  Region IX  population  \n",
       "\n",
       "[3605 rows x 8 columns]"
      ]
     },
     "execution_count": 2,
     "metadata": {},
     "output_type": "execute_result"
    }
   ],
   "source": [
    "input_df = pd.read_csv('povstat_processed.csv')\n",
    "\n",
    "# Copy of df for all processing and analysis, original input_df kept as backup\n",
    "df = input_df.copy() \n",
    "df"
   ]
  },
  {
   "cell_type": "code",
   "execution_count": 3,
   "id": "fc5a6cbf",
   "metadata": {},
   "outputs": [
    {
     "name": "stdout",
     "output_type": "stream",
     "text": [
      "<class 'pandas.core.frame.DataFrame'>\n",
      "RangeIndex: 3605 entries, 0 to 3604\n",
      "Data columns (total 8 columns):\n",
      " #   Column      Non-Null Count  Dtype \n",
      "---  ------      --------------  ----- \n",
      " 0   Unnamed: 0  3605 non-null   int64 \n",
      " 1   Variable    3605 non-null   object\n",
      " 2   Year        3605 non-null   int64 \n",
      " 3   province    3605 non-null   object\n",
      " 4   value       3010 non-null   object\n",
      " 5   adm_level   3360 non-null   object\n",
      " 6   region      3360 non-null   object\n",
      " 7   unit        3605 non-null   object\n",
      "dtypes: int64(2), object(6)\n",
      "memory usage: 225.4+ KB\n"
     ]
    }
   ],
   "source": [
    "df.info()"
   ]
  },
  {
   "cell_type": "markdown",
   "id": "a1aec14c",
   "metadata": {},
   "source": [
    "## Data Preparation"
   ]
  },
  {
   "cell_type": "markdown",
   "id": "ac0cf81b",
   "metadata": {},
   "source": [
    "### Cleanup\n",
    "Before further data preparation, I first drop the unneeded index column and rename columns for consistency."
   ]
  },
  {
   "cell_type": "code",
   "execution_count": 4,
   "id": "c343f778",
   "metadata": {},
   "outputs": [],
   "source": [
    "# Drop first column (index) as Pandas dataframe already adds index\n",
    "df.drop(columns=df.columns[[0]], axis=1, inplace=True)"
   ]
  },
  {
   "cell_type": "code",
   "execution_count": 5,
   "id": "9d8125d8",
   "metadata": {},
   "outputs": [],
   "source": [
    "# Rename columns\n",
    "df.rename(columns = {\n",
    "    'Variable': 'Variable',\n",
    "    'Year': 'Year',\n",
    "    'province': 'Province',\n",
    "    'value': 'Value',\n",
    "    'adm_level': 'Admin_Lvl',\n",
    "    'region': 'Region',\n",
    "    'unit': 'Unit'\n",
    "}, inplace=True)"
   ]
  },
  {
   "cell_type": "markdown",
   "id": "f38cd6e4",
   "metadata": {},
   "source": [
    "### Inspect unique values\n",
    "To get a general view of the dataset, I then inspect the unique values of each column. This helps give a grasp of:\n",
    "- How diverse the values are per column\n",
    "- The datatype of each column\n",
    "- Missing values (if any)"
   ]
  },
  {
   "cell_type": "code",
   "execution_count": 6,
   "id": "022210d5",
   "metadata": {},
   "outputs": [
    {
     "name": "stdout",
     "output_type": "stream",
     "text": [
      "Unique value counts per column:\n"
     ]
    },
    {
     "data": {
      "text/plain": [
       "Variable        7\n",
       "Year            5\n",
       "Province      103\n",
       "Value        2168\n",
       "Admin_Lvl       4\n",
       "Region         18\n",
       "Unit            4\n",
       "dtype: int64"
      ]
     },
     "execution_count": 6,
     "metadata": {},
     "output_type": "execute_result"
    }
   ],
   "source": [
    "# Print counts of unique values per column\n",
    "print(\"Unique value counts per column:\")\n",
    "df.nunique()"
   ]
  },
  {
   "cell_type": "code",
   "execution_count": 7,
   "id": "272c00a5",
   "metadata": {},
   "outputs": [],
   "source": [
    "# List unique values per column\n",
    "unique_vars = df['Variable'].unique().tolist()\n",
    "unique_years = df['Year'].unique().tolist()\n",
    "unique_admins = df['Admin_Lvl'].unique().tolist()\n",
    "unique_regions = df['Region'].unique().tolist()\n",
    "unique_units = df['Unit'].unique().tolist()"
   ]
  },
  {
   "cell_type": "code",
   "execution_count": 8,
   "id": "90adfe61",
   "metadata": {},
   "outputs": [
    {
     "name": "stdout",
     "output_type": "stream",
     "text": [
      "Unique values in Variable:\n",
      "Annual Per Capita Poverty Threshold (in Pesos)\n",
      "Poverty Incidence among Families (%)\n",
      "Magnitude of Poor Families\n",
      "Poverty Incidence among Population (%)\n",
      "Magnitude of Poor Population\n",
      "Subsistence Incidence among Population (%)\n",
      "Magnitude of Subsistence Poor Population\n"
     ]
    }
   ],
   "source": [
    "print(\"Unique values in Variable:\")\n",
    "print(\"\\n\".join(map(str, unique_vars)))"
   ]
  },
  {
   "cell_type": "code",
   "execution_count": 9,
   "id": "f9fafe9e",
   "metadata": {},
   "outputs": [
    {
     "name": "stdout",
     "output_type": "stream",
     "text": [
      "Unique values in Year:\n",
      "1991\n",
      "2006\n",
      "2009\n",
      "2012\n",
      "2015\n"
     ]
    }
   ],
   "source": [
    "print(\"Unique values in Year:\")\n",
    "print(\"\\n\".join(map(str, unique_years)))"
   ]
  },
  {
   "cell_type": "code",
   "execution_count": 10,
   "id": "f42fdee3",
   "metadata": {},
   "outputs": [
    {
     "name": "stdout",
     "output_type": "stream",
     "text": [
      "Unique values in Admin_Lvl:\n",
      "District\n",
      "Region\n",
      "Province\n",
      "nan\n",
      "Country\n"
     ]
    }
   ],
   "source": [
    "print(\"Unique values in Admin_Lvl:\")\n",
    "print(\"\\n\".join(map(str, unique_admins)))"
   ]
  },
  {
   "cell_type": "code",
   "execution_count": 11,
   "id": "2e3017b1",
   "metadata": {},
   "outputs": [
    {
     "name": "stdout",
     "output_type": "stream",
     "text": [
      "Unique values in Region:\n",
      "NCR\n",
      "ARMM\n",
      "CAR\n",
      "CARAGA\n",
      "Region VI\n",
      "Region V\n",
      "nan\n",
      "Region III\n",
      "Region VI-A\n",
      "Region VIII\n",
      "Region VII\n",
      "Region X\n",
      "Region II\n",
      "Region XI\n",
      "Region I\n",
      "Region IV-B\n",
      "Region XII\n",
      "Philippines\n",
      "Region IX\n"
     ]
    }
   ],
   "source": [
    "print(\"Unique values in Region:\")\n",
    "print(\"\\n\".join(map(str, unique_regions)))"
   ]
  },
  {
   "cell_type": "code",
   "execution_count": 12,
   "id": "f72041f0",
   "metadata": {
    "scrolled": true
   },
   "outputs": [
    {
     "name": "stdout",
     "output_type": "stream",
     "text": [
      "Unique values in Unit:\n",
      "in Pesos\n",
      "%\n",
      "families\n",
      "population\n"
     ]
    }
   ],
   "source": [
    "print(\"Unique values in Unit:\")\n",
    "print(\"\\n\".join(map(str, unique_units)))"
   ]
  },
  {
   "cell_type": "markdown",
   "id": "72fe0021",
   "metadata": {},
   "source": [
    "From the listed unique values, the ```Value``` and ```Year``` columns appear to be numerical data, while all other columns are categorical data. This information will be used in the next section."
   ]
  },
  {
   "cell_type": "markdown",
   "id": "7729ea27",
   "metadata": {},
   "source": [
    "### Cast columns to relevant datatypes\n",
    "Each column is then cast to their respective datatype for compatibility with Pandas/Seaborn/NumPy later during analysis. Only ```Value``` needs to be prepared for type conversion, which is done as below."
   ]
  },
  {
   "cell_type": "code",
   "execution_count": 35,
   "id": "53239275",
   "metadata": {},
   "outputs": [
    {
     "name": "stdout",
     "output_type": "stream",
     "text": [
      "1 faulty values returned:\n"
     ]
    },
    {
     "data": {
      "text/plain": [
       "[nan]"
      ]
     },
     "execution_count": 35,
     "metadata": {},
     "output_type": "execute_result"
    }
   ],
   "source": [
    "# Inspect which entries under 'Value' may cause trouble with type conversion\n",
    "faulty_values = df[pd.to_numeric(df['Value'], errors='coerce').isnull()]['Value'].unique()\n",
    "\n",
    "print(f\"{len(faulty_values)} faulty values returned:\")\n",
    "list(faulty_values)[:5] # Only 5 shown in this notebofor brevity"
   ]
  },
  {
   "cell_type": "code",
   "execution_count": 14,
   "id": "a366e89c",
   "metadata": {},
   "outputs": [],
   "source": [
    "# Apply adjustments to entries under 'Value' to prepare for type conversion\n",
    "df['Value'] = df['Value'].str.strip()\n",
    "df['Value'] = df['Value'].str.replace(\",\", \"\")\n",
    "df['Value'] = df['Value'].replace(\"-\", np.NaN)"
   ]
  },
  {
   "cell_type": "code",
   "execution_count": 15,
   "id": "b84731c7",
   "metadata": {},
   "outputs": [
    {
     "name": "stdout",
     "output_type": "stream",
     "text": [
      "<class 'pandas.core.frame.DataFrame'>\n",
      "RangeIndex: 3605 entries, 0 to 3604\n",
      "Data columns (total 7 columns):\n",
      " #   Column     Non-Null Count  Dtype   \n",
      "---  ------     --------------  -----   \n",
      " 0   Variable   3605 non-null   category\n",
      " 1   Year       3605 non-null   int64   \n",
      " 2   Province   3605 non-null   category\n",
      " 3   Value      3008 non-null   float64 \n",
      " 4   Admin_Lvl  3360 non-null   category\n",
      " 5   Region     3360 non-null   category\n",
      " 6   Unit       3605 non-null   category\n",
      "dtypes: category(5), float64(1), int64(1)\n",
      "memory usage: 80.4 KB\n"
     ]
    }
   ],
   "source": [
    "# Convert datatypes of all columns into more relevant ones\n",
    "df = df.astype({\n",
    "    'Variable': 'category',\n",
    "    'Year': 'int64',\n",
    "    'Province': 'category',\n",
    "    'Value': 'float64',\n",
    "    'Admin_Lvl': 'category',\n",
    "    'Region': 'category',\n",
    "    'Unit': 'category'\n",
    "})\n",
    "\n",
    "# Inspect new datatypes\n",
    "df.info()"
   ]
  },
  {
   "cell_type": "markdown",
   "id": "ae3c2da9",
   "metadata": {},
   "source": [
    "### Inspect missing values\n",
    "Missing values are then inspected to investigate:\n",
    "- Are there any patterns to the missing data?\n",
    "- Are the missing data in the same format?\n",
    "- How prevalent is the missing data, and in which columns?\n",
    "- How should the missing data be acted upon? Should it be excluded from analysis or does it enrich analysis?\n",
    "- Would the missing data still contribute to developing a better picture of poverty?\n",
    "\n",
    "Since the unique values listed earlier already show that the missing values are already in a Pandas-readable format (i.e. ```NaN``` instead of ```\"N/A\"```, ```\"No\"```, etc.), the next step is to inspect missing values across the whole dataset."
   ]
  },
  {
   "cell_type": "code",
   "execution_count": 16,
   "id": "1dc805b3",
   "metadata": {},
   "outputs": [
    {
     "data": {
      "text/html": [
       "<div>\n",
       "<style scoped>\n",
       "    .dataframe tbody tr th:only-of-type {\n",
       "        vertical-align: middle;\n",
       "    }\n",
       "\n",
       "    .dataframe tbody tr th {\n",
       "        vertical-align: top;\n",
       "    }\n",
       "\n",
       "    .dataframe thead th {\n",
       "        text-align: right;\n",
       "    }\n",
       "</style>\n",
       "<table border=\"1\" class=\"dataframe\">\n",
       "  <thead>\n",
       "    <tr style=\"text-align: right;\">\n",
       "      <th></th>\n",
       "      <th>Count of missing values</th>\n",
       "      <th>Percent of total</th>\n",
       "    </tr>\n",
       "  </thead>\n",
       "  <tbody>\n",
       "    <tr>\n",
       "      <th>Variable</th>\n",
       "      <td>0</td>\n",
       "      <td>0.000000</td>\n",
       "    </tr>\n",
       "    <tr>\n",
       "      <th>Year</th>\n",
       "      <td>0</td>\n",
       "      <td>0.000000</td>\n",
       "    </tr>\n",
       "    <tr>\n",
       "      <th>Province</th>\n",
       "      <td>0</td>\n",
       "      <td>0.000000</td>\n",
       "    </tr>\n",
       "    <tr>\n",
       "      <th>Value</th>\n",
       "      <td>597</td>\n",
       "      <td>0.165603</td>\n",
       "    </tr>\n",
       "    <tr>\n",
       "      <th>Admin_Lvl</th>\n",
       "      <td>245</td>\n",
       "      <td>0.067961</td>\n",
       "    </tr>\n",
       "    <tr>\n",
       "      <th>Region</th>\n",
       "      <td>245</td>\n",
       "      <td>0.067961</td>\n",
       "    </tr>\n",
       "    <tr>\n",
       "      <th>Unit</th>\n",
       "      <td>0</td>\n",
       "      <td>0.000000</td>\n",
       "    </tr>\n",
       "  </tbody>\n",
       "</table>\n",
       "</div>"
      ],
      "text/plain": [
       "           Count of missing values  Percent of total\n",
       "Variable                         0          0.000000\n",
       "Year                             0          0.000000\n",
       "Province                         0          0.000000\n",
       "Value                          597          0.165603\n",
       "Admin_Lvl                      245          0.067961\n",
       "Region                         245          0.067961\n",
       "Unit                             0          0.000000"
      ]
     },
     "execution_count": 16,
     "metadata": {},
     "output_type": "execute_result"
    }
   ],
   "source": [
    "# Show total of missing values per column \n",
    "missing_count = df.isna().sum()\n",
    "missing_percent = (df.isna().sum()/df.isna().count())\n",
    "\n",
    "pd.concat([missing_count, missing_percent], \n",
    "          axis=1, \n",
    "          keys=['Count of missing values', 'Percent of total'])"
   ]
  },
  {
   "cell_type": "markdown",
   "id": "0a7d30a4",
   "metadata": {},
   "source": [
    "### Inspect missing values: ```Admin_Lvl``` & ```Region```"
   ]
  },
  {
   "cell_type": "markdown",
   "id": "2fb98377",
   "metadata": {},
   "source": [
    "Given the same amount of missing values, I first test whether missing Admin_Lvl & Region may be from the same rows (i.e. whatever is missing Admin_Lvl is also be missing Region data). This hypothesis can be tested with a simple comparison check below."
   ]
  },
  {
   "cell_type": "code",
   "execution_count": 17,
   "id": "7193694b",
   "metadata": {},
   "outputs": [
    {
     "name": "stdout",
     "output_type": "stream",
     "text": [
      "Are rows with missing Admin_Lvl rows the same as the rows with missing Region values?\n",
      "Results: True\n"
     ]
    }
   ],
   "source": [
    "# Investigate missing Admin_Lvl & Region values\n",
    "\n",
    "# Extract rows with missing Admin_Lvl\n",
    "missing_admin = df[df['Admin_Lvl'].isna()]\n",
    "# Extract rows with missing Region\n",
    "missing_region = df[df['Region'].isna()]\n",
    "\n",
    "print(\"Are rows with missing Admin_Lvl rows the same as the rows with missing Region values?\")\n",
    "print(f\"Results: {missing_admin.equals(missing_region)}\")"
   ]
  },
  {
   "cell_type": "code",
   "execution_count": 18,
   "id": "3c030336",
   "metadata": {},
   "outputs": [
    {
     "data": {
      "text/html": [
       "<div>\n",
       "<style scoped>\n",
       "    .dataframe tbody tr th:only-of-type {\n",
       "        vertical-align: middle;\n",
       "    }\n",
       "\n",
       "    .dataframe tbody tr th {\n",
       "        vertical-align: top;\n",
       "    }\n",
       "\n",
       "    .dataframe thead th {\n",
       "        text-align: right;\n",
       "    }\n",
       "</style>\n",
       "<table border=\"1\" class=\"dataframe\">\n",
       "  <thead>\n",
       "    <tr style=\"text-align: right;\">\n",
       "      <th></th>\n",
       "      <th>Count of missing values</th>\n",
       "      <th>Percent of total</th>\n",
       "    </tr>\n",
       "  </thead>\n",
       "  <tbody>\n",
       "    <tr>\n",
       "      <th>Camiguin</th>\n",
       "      <td>35</td>\n",
       "      <td>1.0</td>\n",
       "    </tr>\n",
       "    <tr>\n",
       "      <th>Cotabato City,</th>\n",
       "      <td>35</td>\n",
       "      <td>1.0</td>\n",
       "    </tr>\n",
       "    <tr>\n",
       "      <th>Isabela City,</th>\n",
       "      <td>35</td>\n",
       "      <td>1.0</td>\n",
       "    </tr>\n",
       "    <tr>\n",
       "      <th>Guimaras,</th>\n",
       "      <td>35</td>\n",
       "      <td>1.0</td>\n",
       "    </tr>\n",
       "    <tr>\n",
       "      <th>Aurora</th>\n",
       "      <td>35</td>\n",
       "      <td>1.0</td>\n",
       "    </tr>\n",
       "    <tr>\n",
       "      <th>Siquijor,</th>\n",
       "      <td>35</td>\n",
       "      <td>1.0</td>\n",
       "    </tr>\n",
       "    <tr>\n",
       "      <th>Batanes</th>\n",
       "      <td>35</td>\n",
       "      <td>1.0</td>\n",
       "    </tr>\n",
       "  </tbody>\n",
       "</table>\n",
       "</div>"
      ],
      "text/plain": [
       "                Count of missing values  Percent of total\n",
       "Camiguin                             35               1.0\n",
       "Cotabato City,                       35               1.0\n",
       "Isabela City,                        35               1.0\n",
       "Guimaras,                            35               1.0\n",
       "Aurora                               35               1.0\n",
       "Siquijor,                            35               1.0\n",
       "Batanes                              35               1.0"
      ]
     },
     "execution_count": 18,
     "metadata": {},
     "output_type": "execute_result"
    }
   ],
   "source": [
    "# Inspect provinces with missing Admin_Lvl and Region values\n",
    "\n",
    "# Get province occurrences with missing Admin_Lvl and Region values\n",
    "missing_province_counts = missing_admin['Province'].value_counts()\n",
    "missing_provinces = missing_province_counts[missing_province_counts > 0]\n",
    "\n",
    "# Get overall counts of those provinces from the overall dataset\n",
    "province_counts = df['Province'].value_counts()\n",
    "province_counts = province_counts[missing_provinces.index]\n",
    "\n",
    "missing_provinces_percent = (missing_provinces/province_counts)\n",
    "\n",
    "\n",
    "pd.concat([missing_provinces, missing_provinces_percent], \n",
    "          axis=1, \n",
    "          keys=['Count of missing values', 'Percent of total'])"
   ]
  },
  {
   "cell_type": "code",
   "execution_count": 19,
   "id": "72e671a8",
   "metadata": {},
   "outputs": [
    {
     "data": {
      "text/html": [
       "<div>\n",
       "<style scoped>\n",
       "    .dataframe tbody tr th:only-of-type {\n",
       "        vertical-align: middle;\n",
       "    }\n",
       "\n",
       "    .dataframe tbody tr th {\n",
       "        vertical-align: top;\n",
       "    }\n",
       "\n",
       "    .dataframe thead th {\n",
       "        text-align: right;\n",
       "    }\n",
       "</style>\n",
       "<table border=\"1\" class=\"dataframe\">\n",
       "  <thead>\n",
       "    <tr style=\"text-align: right;\">\n",
       "      <th></th>\n",
       "      <th>Variable</th>\n",
       "      <th>Year</th>\n",
       "      <th>Province</th>\n",
       "      <th>Value</th>\n",
       "      <th>Admin_Lvl</th>\n",
       "      <th>Region</th>\n",
       "      <th>Unit</th>\n",
       "    </tr>\n",
       "  </thead>\n",
       "  <tbody>\n",
       "    <tr>\n",
       "      <th>3080</th>\n",
       "      <td>Annual Per Capita Poverty Threshold (in Pesos)</td>\n",
       "      <td>1991</td>\n",
       "      <td>Siquijor</td>\n",
       "      <td>NaN</td>\n",
       "      <td>NaN</td>\n",
       "      <td>NaN</td>\n",
       "      <td>in Pesos</td>\n",
       "    </tr>\n",
       "    <tr>\n",
       "      <th>3081</th>\n",
       "      <td>Annual Per Capita Poverty Threshold (in Pesos)</td>\n",
       "      <td>2006</td>\n",
       "      <td>Siquijor</td>\n",
       "      <td>13971.0</td>\n",
       "      <td>NaN</td>\n",
       "      <td>NaN</td>\n",
       "      <td>in Pesos</td>\n",
       "    </tr>\n",
       "  </tbody>\n",
       "</table>\n",
       "</div>"
      ],
      "text/plain": [
       "                                            Variable  Year  Province    Value  \\\n",
       "3080  Annual Per Capita Poverty Threshold (in Pesos)  1991  Siquijor      NaN   \n",
       "3081  Annual Per Capita Poverty Threshold (in Pesos)  2006  Siquijor  13971.0   \n",
       "\n",
       "     Admin_Lvl Region      Unit  \n",
       "3080       NaN    NaN  in Pesos  \n",
       "3081       NaN    NaN  in Pesos  "
      ]
     },
     "execution_count": 19,
     "metadata": {},
     "output_type": "execute_result"
    }
   ],
   "source": [
    "# Rename provinces with extra commas\n",
    "df = df.replace('Cotabato City,', 'Cotabato City')\n",
    "df = df.replace('Isabela City,', 'Isabela City')\n",
    "df = df.replace('Guimaras,', 'Guimaras')\n",
    "df = df.replace('Siquijor,', 'Siquijor')\n",
    "\n",
    "# Show a few sample rows to demonstrate changes\n",
    "df.loc[df['Province'] == 'Siquijor'][:2]"
   ]
  },
  {
   "cell_type": "code",
   "execution_count": 33,
   "id": "2f4f76a9",
   "metadata": {},
   "outputs": [
    {
     "data": {
      "text/html": [
       "<div>\n",
       "<style scoped>\n",
       "    .dataframe tbody tr th:only-of-type {\n",
       "        vertical-align: middle;\n",
       "    }\n",
       "\n",
       "    .dataframe tbody tr th {\n",
       "        vertical-align: top;\n",
       "    }\n",
       "\n",
       "    .dataframe thead th {\n",
       "        text-align: right;\n",
       "    }\n",
       "</style>\n",
       "<table border=\"1\" class=\"dataframe\">\n",
       "  <thead>\n",
       "    <tr style=\"text-align: right;\">\n",
       "      <th></th>\n",
       "      <th>Variable</th>\n",
       "      <th>Year</th>\n",
       "      <th>Province</th>\n",
       "      <th>Value</th>\n",
       "      <th>Admin_Lvl</th>\n",
       "      <th>Region</th>\n",
       "      <th>Unit</th>\n",
       "    </tr>\n",
       "  </thead>\n",
       "  <tbody>\n",
       "    <tr>\n",
       "      <th>420</th>\n",
       "      <td>Annual Per Capita Poverty Threshold (in Pesos)</td>\n",
       "      <td>1991</td>\n",
       "      <td>Aurora</td>\n",
       "      <td>NaN</td>\n",
       "      <td>Province</td>\n",
       "      <td>Region III</td>\n",
       "      <td>in Pesos</td>\n",
       "    </tr>\n",
       "    <tr>\n",
       "      <th>421</th>\n",
       "      <td>Annual Per Capita Poverty Threshold (in Pesos)</td>\n",
       "      <td>2006</td>\n",
       "      <td>Aurora</td>\n",
       "      <td>11883.0</td>\n",
       "      <td>Province</td>\n",
       "      <td>Region III</td>\n",
       "      <td>in Pesos</td>\n",
       "    </tr>\n",
       "    <tr>\n",
       "      <th>422</th>\n",
       "      <td>Annual Per Capita Poverty Threshold (in Pesos)</td>\n",
       "      <td>2009</td>\n",
       "      <td>Aurora</td>\n",
       "      <td>14979.0</td>\n",
       "      <td>Province</td>\n",
       "      <td>Region III</td>\n",
       "      <td>in Pesos</td>\n",
       "    </tr>\n",
       "    <tr>\n",
       "      <th>423</th>\n",
       "      <td>Annual Per Capita Poverty Threshold (in Pesos)</td>\n",
       "      <td>2012</td>\n",
       "      <td>Aurora</td>\n",
       "      <td>18466.0</td>\n",
       "      <td>Province</td>\n",
       "      <td>Region III</td>\n",
       "      <td>in Pesos</td>\n",
       "    </tr>\n",
       "    <tr>\n",
       "      <th>424</th>\n",
       "      <td>Annual Per Capita Poverty Threshold (in Pesos)</td>\n",
       "      <td>2015</td>\n",
       "      <td>Aurora</td>\n",
       "      <td>20458.0</td>\n",
       "      <td>Province</td>\n",
       "      <td>Region III</td>\n",
       "      <td>in Pesos</td>\n",
       "    </tr>\n",
       "    <tr>\n",
       "      <th>...</th>\n",
       "      <td>...</td>\n",
       "      <td>...</td>\n",
       "      <td>...</td>\n",
       "      <td>...</td>\n",
       "      <td>...</td>\n",
       "      <td>...</td>\n",
       "      <td>...</td>\n",
       "    </tr>\n",
       "    <tr>\n",
       "      <th>3110</th>\n",
       "      <td>Magnitude of Subsistence Poor Population</td>\n",
       "      <td>1991</td>\n",
       "      <td>Siquijor</td>\n",
       "      <td>NaN</td>\n",
       "      <td>Province</td>\n",
       "      <td>Region VII</td>\n",
       "      <td>population</td>\n",
       "    </tr>\n",
       "    <tr>\n",
       "      <th>3111</th>\n",
       "      <td>Magnitude of Subsistence Poor Population</td>\n",
       "      <td>2006</td>\n",
       "      <td>Siquijor</td>\n",
       "      <td>15473.0</td>\n",
       "      <td>Province</td>\n",
       "      <td>Region VII</td>\n",
       "      <td>population</td>\n",
       "    </tr>\n",
       "    <tr>\n",
       "      <th>3112</th>\n",
       "      <td>Magnitude of Subsistence Poor Population</td>\n",
       "      <td>2009</td>\n",
       "      <td>Siquijor</td>\n",
       "      <td>4795.0</td>\n",
       "      <td>Province</td>\n",
       "      <td>Region VII</td>\n",
       "      <td>population</td>\n",
       "    </tr>\n",
       "    <tr>\n",
       "      <th>3113</th>\n",
       "      <td>Magnitude of Subsistence Poor Population</td>\n",
       "      <td>2012</td>\n",
       "      <td>Siquijor</td>\n",
       "      <td>11084.0</td>\n",
       "      <td>Province</td>\n",
       "      <td>Region VII</td>\n",
       "      <td>population</td>\n",
       "    </tr>\n",
       "    <tr>\n",
       "      <th>3114</th>\n",
       "      <td>Magnitude of Subsistence Poor Population</td>\n",
       "      <td>2015</td>\n",
       "      <td>Siquijor</td>\n",
       "      <td>30363.0</td>\n",
       "      <td>Province</td>\n",
       "      <td>Region VII</td>\n",
       "      <td>population</td>\n",
       "    </tr>\n",
       "  </tbody>\n",
       "</table>\n",
       "<p>245 rows × 7 columns</p>\n",
       "</div>"
      ],
      "text/plain": [
       "                                            Variable  Year  Province    Value  \\\n",
       "420   Annual Per Capita Poverty Threshold (in Pesos)  1991    Aurora      NaN   \n",
       "421   Annual Per Capita Poverty Threshold (in Pesos)  2006    Aurora  11883.0   \n",
       "422   Annual Per Capita Poverty Threshold (in Pesos)  2009    Aurora  14979.0   \n",
       "423   Annual Per Capita Poverty Threshold (in Pesos)  2012    Aurora  18466.0   \n",
       "424   Annual Per Capita Poverty Threshold (in Pesos)  2015    Aurora  20458.0   \n",
       "...                                              ...   ...       ...      ...   \n",
       "3110        Magnitude of Subsistence Poor Population  1991  Siquijor      NaN   \n",
       "3111        Magnitude of Subsistence Poor Population  2006  Siquijor  15473.0   \n",
       "3112        Magnitude of Subsistence Poor Population  2009  Siquijor   4795.0   \n",
       "3113        Magnitude of Subsistence Poor Population  2012  Siquijor  11084.0   \n",
       "3114        Magnitude of Subsistence Poor Population  2015  Siquijor  30363.0   \n",
       "\n",
       "     Admin_Lvl      Region        Unit  \n",
       "420   Province  Region III    in Pesos  \n",
       "421   Province  Region III    in Pesos  \n",
       "422   Province  Region III    in Pesos  \n",
       "423   Province  Region III    in Pesos  \n",
       "424   Province  Region III    in Pesos  \n",
       "...        ...         ...         ...  \n",
       "3110  Province  Region VII  population  \n",
       "3111  Province  Region VII  population  \n",
       "3112  Province  Region VII  population  \n",
       "3113  Province  Region VII  population  \n",
       "3114  Province  Region VII  population  \n",
       "\n",
       "[245 rows x 7 columns]"
      ]
     },
     "execution_count": 33,
     "metadata": {},
     "output_type": "execute_result"
    }
   ],
   "source": [
    "# Manually resolve missing Admin_Lvl and Region values based on province\n",
    "\n",
    "provinces = ['Camiguin', 'Cotabato City', 'Isabela City', 'Guimaras', 'Aurora', 'Siquijor', 'Batanes']\n",
    "regions = ['Region X', 'Region XII', 'Region IX', 'Region VI', 'Region III', 'Region VII', 'Region II']\n",
    "\n",
    "for index, province in enumerate(provinces):\n",
    "    df.loc[df['Province'] == province, 'Admin_Lvl'] = 'Province'\n",
    "    df.loc[df['Province'] == province, 'Region'] = regions[index]\n",
    "\n",
    "# Show a few sample rows to demonstrate changes\n",
    "df.loc[df['Province'].isin(provinces)]"
   ]
  },
  {
   "cell_type": "code",
   "execution_count": 34,
   "id": "dd1c689a",
   "metadata": {},
   "outputs": [
    {
     "name": "stdout",
     "output_type": "stream",
     "text": [
      "<class 'pandas.core.frame.DataFrame'>\n",
      "RangeIndex: 3605 entries, 0 to 3604\n",
      "Data columns (total 7 columns):\n",
      " #   Column     Non-Null Count  Dtype   \n",
      "---  ------     --------------  -----   \n",
      " 0   Variable   3605 non-null   category\n",
      " 1   Year       3605 non-null   int64   \n",
      " 2   Province   3605 non-null   category\n",
      " 3   Value      3008 non-null   float64 \n",
      " 4   Admin_Lvl  3605 non-null   category\n",
      " 5   Region     3605 non-null   category\n",
      " 6   Unit       3605 non-null   category\n",
      "dtypes: category(5), float64(1), int64(1)\n",
      "memory usage: 80.4 KB\n"
     ]
    }
   ],
   "source": [
    "# Check if all missing Admin_Lvl & Region values have been addressed\n",
    "df.info()"
   ]
  },
  {
   "cell_type": "markdown",
   "id": "73ed0b49",
   "metadata": {},
   "source": [
    "There are now 3605/3605 non-null values for ```Admin_Lvl``` & ```Region```, so all missing values under these have been resolved."
   ]
  },
  {
   "cell_type": "markdown",
   "id": "7514c6c8",
   "metadata": {},
   "source": [
    "### Inspect missing values: ```Value```\n",
    "Next, missing values under "
   ]
  },
  {
   "cell_type": "code",
   "execution_count": 23,
   "id": "b4ed9188",
   "metadata": {},
   "outputs": [
    {
     "data": {
      "text/html": [
       "<div>\n",
       "<style scoped>\n",
       "    .dataframe tbody tr th:only-of-type {\n",
       "        vertical-align: middle;\n",
       "    }\n",
       "\n",
       "    .dataframe tbody tr th {\n",
       "        vertical-align: top;\n",
       "    }\n",
       "\n",
       "    .dataframe thead th {\n",
       "        text-align: right;\n",
       "    }\n",
       "</style>\n",
       "<table border=\"1\" class=\"dataframe\">\n",
       "  <thead>\n",
       "    <tr style=\"text-align: right;\">\n",
       "      <th></th>\n",
       "      <th>Variable</th>\n",
       "      <th>Year</th>\n",
       "      <th>Province</th>\n",
       "      <th>Value</th>\n",
       "      <th>Admin_Lvl</th>\n",
       "      <th>Region</th>\n",
       "      <th>Unit</th>\n",
       "    </tr>\n",
       "  </thead>\n",
       "  <tbody>\n",
       "    <tr>\n",
       "      <th>0</th>\n",
       "      <td>Annual Per Capita Poverty Threshold (in Pesos)</td>\n",
       "      <td>1991</td>\n",
       "      <td>1st District</td>\n",
       "      <td>NaN</td>\n",
       "      <td>District</td>\n",
       "      <td>NCR</td>\n",
       "      <td>in Pesos</td>\n",
       "    </tr>\n",
       "    <tr>\n",
       "      <th>5</th>\n",
       "      <td>Poverty Incidence among Families (%)</td>\n",
       "      <td>1991</td>\n",
       "      <td>1st District</td>\n",
       "      <td>NaN</td>\n",
       "      <td>District</td>\n",
       "      <td>NCR</td>\n",
       "      <td>%</td>\n",
       "    </tr>\n",
       "    <tr>\n",
       "      <th>10</th>\n",
       "      <td>Magnitude of Poor Families</td>\n",
       "      <td>1991</td>\n",
       "      <td>1st District</td>\n",
       "      <td>NaN</td>\n",
       "      <td>District</td>\n",
       "      <td>NCR</td>\n",
       "      <td>families</td>\n",
       "    </tr>\n",
       "    <tr>\n",
       "      <th>15</th>\n",
       "      <td>Poverty Incidence among Population (%)</td>\n",
       "      <td>1991</td>\n",
       "      <td>1st District</td>\n",
       "      <td>NaN</td>\n",
       "      <td>District</td>\n",
       "      <td>NCR</td>\n",
       "      <td>%</td>\n",
       "    </tr>\n",
       "    <tr>\n",
       "      <th>20</th>\n",
       "      <td>Magnitude of Poor Population</td>\n",
       "      <td>1991</td>\n",
       "      <td>1st District</td>\n",
       "      <td>NaN</td>\n",
       "      <td>District</td>\n",
       "      <td>NCR</td>\n",
       "      <td>population</td>\n",
       "    </tr>\n",
       "    <tr>\n",
       "      <th>...</th>\n",
       "      <td>...</td>\n",
       "      <td>...</td>\n",
       "      <td>...</td>\n",
       "      <td>...</td>\n",
       "      <td>...</td>\n",
       "      <td>...</td>\n",
       "      <td>...</td>\n",
       "    </tr>\n",
       "    <tr>\n",
       "      <th>3580</th>\n",
       "      <td>Magnitude of Poor Families</td>\n",
       "      <td>1991</td>\n",
       "      <td>Zamboanga del Sur</td>\n",
       "      <td>NaN</td>\n",
       "      <td>Province</td>\n",
       "      <td>Region IX</td>\n",
       "      <td>families</td>\n",
       "    </tr>\n",
       "    <tr>\n",
       "      <th>3585</th>\n",
       "      <td>Poverty Incidence among Population (%)</td>\n",
       "      <td>1991</td>\n",
       "      <td>Zamboanga del Sur</td>\n",
       "      <td>NaN</td>\n",
       "      <td>Province</td>\n",
       "      <td>Region IX</td>\n",
       "      <td>%</td>\n",
       "    </tr>\n",
       "    <tr>\n",
       "      <th>3590</th>\n",
       "      <td>Magnitude of Poor Population</td>\n",
       "      <td>1991</td>\n",
       "      <td>Zamboanga del Sur</td>\n",
       "      <td>NaN</td>\n",
       "      <td>Province</td>\n",
       "      <td>Region IX</td>\n",
       "      <td>population</td>\n",
       "    </tr>\n",
       "    <tr>\n",
       "      <th>3595</th>\n",
       "      <td>Subsistence Incidence among Population (%)</td>\n",
       "      <td>1991</td>\n",
       "      <td>Zamboanga del Sur</td>\n",
       "      <td>NaN</td>\n",
       "      <td>Province</td>\n",
       "      <td>Region IX</td>\n",
       "      <td>%</td>\n",
       "    </tr>\n",
       "    <tr>\n",
       "      <th>3600</th>\n",
       "      <td>Magnitude of Subsistence Poor Population</td>\n",
       "      <td>1991</td>\n",
       "      <td>Zamboanga del Sur</td>\n",
       "      <td>NaN</td>\n",
       "      <td>Province</td>\n",
       "      <td>Region IX</td>\n",
       "      <td>population</td>\n",
       "    </tr>\n",
       "  </tbody>\n",
       "</table>\n",
       "<p>597 rows × 7 columns</p>\n",
       "</div>"
      ],
      "text/plain": [
       "                                            Variable  Year           Province  \\\n",
       "0     Annual Per Capita Poverty Threshold (in Pesos)  1991       1st District   \n",
       "5               Poverty Incidence among Families (%)  1991       1st District   \n",
       "10                        Magnitude of Poor Families  1991       1st District   \n",
       "15            Poverty Incidence among Population (%)  1991       1st District   \n",
       "20                      Magnitude of Poor Population  1991       1st District   \n",
       "...                                              ...   ...                ...   \n",
       "3580                      Magnitude of Poor Families  1991  Zamboanga del Sur   \n",
       "3585          Poverty Incidence among Population (%)  1991  Zamboanga del Sur   \n",
       "3590                    Magnitude of Poor Population  1991  Zamboanga del Sur   \n",
       "3595      Subsistence Incidence among Population (%)  1991  Zamboanga del Sur   \n",
       "3600        Magnitude of Subsistence Poor Population  1991  Zamboanga del Sur   \n",
       "\n",
       "      Value Admin_Lvl     Region        Unit  \n",
       "0       NaN  District        NCR    in Pesos  \n",
       "5       NaN  District        NCR           %  \n",
       "10      NaN  District        NCR    families  \n",
       "15      NaN  District        NCR           %  \n",
       "20      NaN  District        NCR  population  \n",
       "...     ...       ...        ...         ...  \n",
       "3580    NaN  Province  Region IX    families  \n",
       "3585    NaN  Province  Region IX           %  \n",
       "3590    NaN  Province  Region IX  population  \n",
       "3595    NaN  Province  Region IX           %  \n",
       "3600    NaN  Province  Region IX  population  \n",
       "\n",
       "[597 rows x 7 columns]"
      ]
     },
     "execution_count": 23,
     "metadata": {},
     "output_type": "execute_result"
    }
   ],
   "source": [
    "# Next, I investigate missing values under \"Value\"\n",
    "missing_values = df[df['Value'].isna()]\n",
    "missing_values"
   ]
  },
  {
   "cell_type": "code",
   "execution_count": null,
   "id": "6dd92bcf",
   "metadata": {},
   "outputs": [],
   "source": []
  },
  {
   "cell_type": "code",
   "execution_count": 24,
   "id": "e1fa1f11",
   "metadata": {},
   "outputs": [
    {
     "data": {
      "text/html": [
       "<div>\n",
       "<style scoped>\n",
       "    .dataframe tbody tr th:only-of-type {\n",
       "        vertical-align: middle;\n",
       "    }\n",
       "\n",
       "    .dataframe tbody tr th {\n",
       "        vertical-align: top;\n",
       "    }\n",
       "\n",
       "    .dataframe thead th {\n",
       "        text-align: right;\n",
       "    }\n",
       "</style>\n",
       "<table border=\"1\" class=\"dataframe\">\n",
       "  <thead>\n",
       "    <tr style=\"text-align: right;\">\n",
       "      <th></th>\n",
       "      <th>Year</th>\n",
       "      <th>Value</th>\n",
       "    </tr>\n",
       "  </thead>\n",
       "  <tbody>\n",
       "    <tr>\n",
       "      <th>count</th>\n",
       "      <td>597.000000</td>\n",
       "      <td>0.0</td>\n",
       "    </tr>\n",
       "    <tr>\n",
       "      <th>mean</th>\n",
       "      <td>1991.080402</td>\n",
       "      <td>NaN</td>\n",
       "    </tr>\n",
       "    <tr>\n",
       "      <th>std</th>\n",
       "      <td>1.387952</td>\n",
       "      <td>NaN</td>\n",
       "    </tr>\n",
       "    <tr>\n",
       "      <th>min</th>\n",
       "      <td>1991.000000</td>\n",
       "      <td>NaN</td>\n",
       "    </tr>\n",
       "    <tr>\n",
       "      <th>25%</th>\n",
       "      <td>1991.000000</td>\n",
       "      <td>NaN</td>\n",
       "    </tr>\n",
       "    <tr>\n",
       "      <th>50%</th>\n",
       "      <td>1991.000000</td>\n",
       "      <td>NaN</td>\n",
       "    </tr>\n",
       "    <tr>\n",
       "      <th>75%</th>\n",
       "      <td>1991.000000</td>\n",
       "      <td>NaN</td>\n",
       "    </tr>\n",
       "    <tr>\n",
       "      <th>max</th>\n",
       "      <td>2015.000000</td>\n",
       "      <td>NaN</td>\n",
       "    </tr>\n",
       "  </tbody>\n",
       "</table>\n",
       "</div>"
      ],
      "text/plain": [
       "              Year  Value\n",
       "count   597.000000    0.0\n",
       "mean   1991.080402    NaN\n",
       "std       1.387952    NaN\n",
       "min    1991.000000    NaN\n",
       "25%    1991.000000    NaN\n",
       "50%    1991.000000    NaN\n",
       "75%    1991.000000    NaN\n",
       "max    2015.000000    NaN"
      ]
     },
     "execution_count": 24,
     "metadata": {},
     "output_type": "execute_result"
    }
   ],
   "source": [
    "# From above, most missing values appear to be under 1991\n",
    "# The missing values above may be linked to certain years, \n",
    "# thus this is tested by describing the data\n",
    "missing_values.describe()"
   ]
  },
  {
   "cell_type": "markdown",
   "id": "3189adc3",
   "metadata": {},
   "source": [
    "Although a great majority of missing values appear under 1991 as shown above, the maximum also shows missing data from 2015 and std > 1. Hence, a box plot can be made to see the distribution of missing data across the years."
   ]
  },
  {
   "cell_type": "code",
   "execution_count": 25,
   "id": "355455f9",
   "metadata": {},
   "outputs": [
    {
     "data": {
      "image/png": "[encoded data removed]",
      "text/plain": [
       "<Figure size 640x480 with 1 Axes>"
      ]
     },
     "metadata": {},
     "output_type": "display_data"
    }
   ],
   "source": [
    "# PLot missing values by year\n",
    "sns.boxplot(data=missing_values, x='Year')\n",
    "plt.tight_layout()\n",
    "plt.title(\"Missing Entries under 'Value' by Year\")\n",
    "plt.xlabel(\"Year\")\n",
    "plt.ylabel(\"Missing entries under 'Value'\")\n",
    "plt.show()"
   ]
  },
  {
   "cell_type": "markdown",
   "id": "961fa38f",
   "metadata": {},
   "source": [
    "A very small amount of missing values appear to be under 2015, with the rest being under 1991. These are further investigated below:"
   ]
  },
  {
   "cell_type": "code",
   "execution_count": 26,
   "id": "2dce48c9",
   "metadata": {},
   "outputs": [
    {
     "name": "stdout",
     "output_type": "stream",
     "text": [
      "Count of missing entries under 'Value' by year\n"
     ]
    },
    {
     "data": {
      "text/plain": [
       "Year\n",
       "1991    595\n",
       "2015      2\n",
       "dtype: int64"
      ]
     },
     "execution_count": 26,
     "metadata": {},
     "output_type": "execute_result"
    }
   ],
   "source": [
    "# Print exact number of missing values by year\n",
    "print(\"Count of missing entries under 'Value' by year\")\n",
    "missing_by_year = missing_values.groupby(by=\"Year\")\n",
    "missing_by_year.size()"
   ]
  },
  {
   "cell_type": "code",
   "execution_count": 27,
   "id": "7730a193",
   "metadata": {},
   "outputs": [
    {
     "data": {
      "text/html": [
       "<div>\n",
       "<style scoped>\n",
       "    .dataframe tbody tr th:only-of-type {\n",
       "        vertical-align: middle;\n",
       "    }\n",
       "\n",
       "    .dataframe tbody tr th {\n",
       "        vertical-align: top;\n",
       "    }\n",
       "\n",
       "    .dataframe thead th {\n",
       "        text-align: right;\n",
       "    }\n",
       "</style>\n",
       "<table border=\"1\" class=\"dataframe\">\n",
       "  <thead>\n",
       "    <tr style=\"text-align: right;\">\n",
       "      <th></th>\n",
       "      <th>Variable</th>\n",
       "      <th>Year</th>\n",
       "      <th>Province</th>\n",
       "      <th>Value</th>\n",
       "      <th>Admin_Lvl</th>\n",
       "      <th>Region</th>\n",
       "      <th>Unit</th>\n",
       "    </tr>\n",
       "  </thead>\n",
       "  <tbody>\n",
       "    <tr>\n",
       "      <th>539</th>\n",
       "      <td>Magnitude of Poor Families</td>\n",
       "      <td>2015</td>\n",
       "      <td>Batanes</td>\n",
       "      <td>NaN</td>\n",
       "      <td>Province</td>\n",
       "      <td>Region II</td>\n",
       "      <td>families</td>\n",
       "    </tr>\n",
       "    <tr>\n",
       "      <th>549</th>\n",
       "      <td>Magnitude of Poor Population</td>\n",
       "      <td>2015</td>\n",
       "      <td>Batanes</td>\n",
       "      <td>NaN</td>\n",
       "      <td>Province</td>\n",
       "      <td>Region II</td>\n",
       "      <td>population</td>\n",
       "    </tr>\n",
       "  </tbody>\n",
       "</table>\n",
       "</div>"
      ],
      "text/plain": [
       "                         Variable  Year Province  Value Admin_Lvl     Region  \\\n",
       "539    Magnitude of Poor Families  2015  Batanes    NaN  Province  Region II   \n",
       "549  Magnitude of Poor Population  2015  Batanes    NaN  Province  Region II   \n",
       "\n",
       "           Unit  \n",
       "539    families  \n",
       "549  population  "
      ]
     },
     "execution_count": 27,
     "metadata": {},
     "output_type": "execute_result"
    }
   ],
   "source": [
    "# Inspect two missing values from 2015\n",
    "missing_values.query('Year == 2015')"
   ]
  },
  {
   "cell_type": "markdown",
   "id": "e900a0f4",
   "metadata": {},
   "source": [
    "### Inspect numerical data"
   ]
  },
  {
   "cell_type": "code",
   "execution_count": 28,
   "id": "e4826df4",
   "metadata": {},
   "outputs": [
    {
     "data": {
      "text/html": [
       "<div>\n",
       "<style scoped>\n",
       "    .dataframe tbody tr th:only-of-type {\n",
       "        vertical-align: middle;\n",
       "    }\n",
       "\n",
       "    .dataframe tbody tr th {\n",
       "        vertical-align: top;\n",
       "    }\n",
       "\n",
       "    .dataframe thead th {\n",
       "        text-align: right;\n",
       "    }\n",
       "</style>\n",
       "<table border=\"1\" class=\"dataframe\">\n",
       "  <thead>\n",
       "    <tr style=\"text-align: right;\">\n",
       "      <th></th>\n",
       "      <th>Year</th>\n",
       "      <th>Value</th>\n",
       "    </tr>\n",
       "  </thead>\n",
       "  <tbody>\n",
       "    <tr>\n",
       "      <th>count</th>\n",
       "      <td>3605.000000</td>\n",
       "      <td>3.008000e+03</td>\n",
       "    </tr>\n",
       "    <tr>\n",
       "      <th>mean</th>\n",
       "      <td>2006.600000</td>\n",
       "      <td>1.717121e+05</td>\n",
       "    </tr>\n",
       "    <tr>\n",
       "      <th>std</th>\n",
       "      <td>8.358192</td>\n",
       "      <td>1.049844e+06</td>\n",
       "    </tr>\n",
       "    <tr>\n",
       "      <th>min</th>\n",
       "      <td>1991.000000</td>\n",
       "      <td>0.000000e+00</td>\n",
       "    </tr>\n",
       "    <tr>\n",
       "      <th>25%</th>\n",
       "      <td>2006.000000</td>\n",
       "      <td>2.590000e+01</td>\n",
       "    </tr>\n",
       "    <tr>\n",
       "      <th>50%</th>\n",
       "      <td>2009.000000</td>\n",
       "      <td>1.393150e+04</td>\n",
       "    </tr>\n",
       "    <tr>\n",
       "      <th>75%</th>\n",
       "      <td>2012.000000</td>\n",
       "      <td>8.288250e+04</td>\n",
       "    </tr>\n",
       "    <tr>\n",
       "      <th>max</th>\n",
       "      <td>2015.000000</td>\n",
       "      <td>2.374590e+07</td>\n",
       "    </tr>\n",
       "  </tbody>\n",
       "</table>\n",
       "</div>"
      ],
      "text/plain": [
       "              Year         Value\n",
       "count  3605.000000  3.008000e+03\n",
       "mean   2006.600000  1.717121e+05\n",
       "std       8.358192  1.049844e+06\n",
       "min    1991.000000  0.000000e+00\n",
       "25%    2006.000000  2.590000e+01\n",
       "50%    2009.000000  1.393150e+04\n",
       "75%    2012.000000  8.288250e+04\n",
       "max    2015.000000  2.374590e+07"
      ]
     },
     "execution_count": 28,
     "metadata": {},
     "output_type": "execute_result"
    }
   ],
   "source": [
    "df.describe() # TODO: Replace"
   ]
  },
  {
   "cell_type": "markdown",
   "id": "9c3768f5",
   "metadata": {},
   "source": [
    "### Inspect categorical data"
   ]
  },
  {
   "cell_type": "code",
   "execution_count": 29,
   "id": "008a2e4c",
   "metadata": {},
   "outputs": [],
   "source": [
    "# TODO"
   ]
  },
  {
   "cell_type": "markdown",
   "id": "7aa2a507",
   "metadata": {},
   "source": [
    "### Inspect data by variables"
   ]
  },
  {
   "cell_type": "code",
   "execution_count": 30,
   "id": "70383251",
   "metadata": {},
   "outputs": [],
   "source": [
    "# TODO"
   ]
  }
 ],
 "metadata": {
  "kernelspec": {
   "display_name": "Python 3 (ipykernel)",
   "language": "python",
   "name": "python3"
  },
  "language_info": {
   "codemirror_mode": {
    "name": "ipython",
    "version": 3
   },
   "file_extension": ".py",
   "mimetype": "text/x-python",
   "name": "python",
   "nbconvert_exporter": "python",
   "pygments_lexer": "ipython3",
   "version": "3.9.13"
  }
 },
 "nbformat": 4,
 "nbformat_minor": 5
}
