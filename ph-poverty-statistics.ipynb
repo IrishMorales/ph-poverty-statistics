{
 "cells": [
  {
   "cell_type": "markdown",
   "id": "de8c400d",
   "metadata": {},
   "source": [
    "# Philippine Poverty Statistics - EDA"
   ]
  },
  {
   "cell_type": "markdown",
   "id": "1cd05552",
   "metadata": {},
   "source": [
    "### Reading Input"
   ]
  },
  {
   "cell_type": "code",
   "execution_count": 1,
   "id": "fec42e6f",
   "metadata": {},
   "outputs": [],
   "source": [
    "import pandas as pd\n",
    "import numpy as np\n",
    "import seaborn as sns\n",
    "import matplotlib.pyplot as plt"
   ]
  },
  {
   "cell_type": "code",
   "execution_count": 2,
   "id": "9a2293aa",
   "metadata": {},
   "outputs": [
    {
     "data": {
      "text/html": [
       "<div>\n",
       "<style scoped>\n",
       "    .dataframe tbody tr th:only-of-type {\n",
       "        vertical-align: middle;\n",
       "    }\n",
       "\n",
       "    .dataframe tbody tr th {\n",
       "        vertical-align: top;\n",
       "    }\n",
       "\n",
       "    .dataframe thead th {\n",
       "        text-align: right;\n",
       "    }\n",
       "</style>\n",
       "<table border=\"1\" class=\"dataframe\">\n",
       "  <thead>\n",
       "    <tr style=\"text-align: right;\">\n",
       "      <th></th>\n",
       "      <th>Unnamed: 0</th>\n",
       "      <th>Variable</th>\n",
       "      <th>Year</th>\n",
       "      <th>province</th>\n",
       "      <th>value</th>\n",
       "      <th>adm_level</th>\n",
       "      <th>region</th>\n",
       "      <th>unit</th>\n",
       "    </tr>\n",
       "  </thead>\n",
       "  <tbody>\n",
       "    <tr>\n",
       "      <th>0</th>\n",
       "      <td>0</td>\n",
       "      <td>Annual Per Capita Poverty Threshold (in Pesos)</td>\n",
       "      <td>1991</td>\n",
       "      <td>1st District</td>\n",
       "      <td>NaN</td>\n",
       "      <td>District</td>\n",
       "      <td>NCR</td>\n",
       "      <td>in Pesos</td>\n",
       "    </tr>\n",
       "    <tr>\n",
       "      <th>1</th>\n",
       "      <td>1</td>\n",
       "      <td>Annual Per Capita Poverty Threshold (in Pesos)</td>\n",
       "      <td>2006</td>\n",
       "      <td>1st District</td>\n",
       "      <td>15,699</td>\n",
       "      <td>District</td>\n",
       "      <td>NCR</td>\n",
       "      <td>in Pesos</td>\n",
       "    </tr>\n",
       "    <tr>\n",
       "      <th>2</th>\n",
       "      <td>2</td>\n",
       "      <td>Annual Per Capita Poverty Threshold (in Pesos)</td>\n",
       "      <td>2009</td>\n",
       "      <td>1st District</td>\n",
       "      <td>19,227</td>\n",
       "      <td>District</td>\n",
       "      <td>NCR</td>\n",
       "      <td>in Pesos</td>\n",
       "    </tr>\n",
       "    <tr>\n",
       "      <th>3</th>\n",
       "      <td>3</td>\n",
       "      <td>Annual Per Capita Poverty Threshold (in Pesos)</td>\n",
       "      <td>2012</td>\n",
       "      <td>1st District</td>\n",
       "      <td>20,344</td>\n",
       "      <td>District</td>\n",
       "      <td>NCR</td>\n",
       "      <td>in Pesos</td>\n",
       "    </tr>\n",
       "    <tr>\n",
       "      <th>4</th>\n",
       "      <td>4</td>\n",
       "      <td>Annual Per Capita Poverty Threshold (in Pesos)</td>\n",
       "      <td>2015</td>\n",
       "      <td>1st District</td>\n",
       "      <td>25,007</td>\n",
       "      <td>District</td>\n",
       "      <td>NCR</td>\n",
       "      <td>in Pesos</td>\n",
       "    </tr>\n",
       "    <tr>\n",
       "      <th>...</th>\n",
       "      <td>...</td>\n",
       "      <td>...</td>\n",
       "      <td>...</td>\n",
       "      <td>...</td>\n",
       "      <td>...</td>\n",
       "      <td>...</td>\n",
       "      <td>...</td>\n",
       "      <td>...</td>\n",
       "    </tr>\n",
       "    <tr>\n",
       "      <th>3600</th>\n",
       "      <td>3600</td>\n",
       "      <td>Magnitude of Subsistence Poor Population</td>\n",
       "      <td>1991</td>\n",
       "      <td>Zamboanga del Sur</td>\n",
       "      <td>NaN</td>\n",
       "      <td>Province</td>\n",
       "      <td>Region IX</td>\n",
       "      <td>population</td>\n",
       "    </tr>\n",
       "    <tr>\n",
       "      <th>3601</th>\n",
       "      <td>3601</td>\n",
       "      <td>Magnitude of Subsistence Poor Population</td>\n",
       "      <td>2006</td>\n",
       "      <td>Zamboanga del Sur</td>\n",
       "      <td>268,576</td>\n",
       "      <td>Province</td>\n",
       "      <td>Region IX</td>\n",
       "      <td>population</td>\n",
       "    </tr>\n",
       "    <tr>\n",
       "      <th>3602</th>\n",
       "      <td>3602</td>\n",
       "      <td>Magnitude of Subsistence Poor Population</td>\n",
       "      <td>2009</td>\n",
       "      <td>Zamboanga del Sur</td>\n",
       "      <td>261,992</td>\n",
       "      <td>Province</td>\n",
       "      <td>Region IX</td>\n",
       "      <td>population</td>\n",
       "    </tr>\n",
       "    <tr>\n",
       "      <th>3603</th>\n",
       "      <td>3603</td>\n",
       "      <td>Magnitude of Subsistence Poor Population</td>\n",
       "      <td>2012</td>\n",
       "      <td>Zamboanga del Sur</td>\n",
       "      <td>209,765</td>\n",
       "      <td>Province</td>\n",
       "      <td>Region IX</td>\n",
       "      <td>population</td>\n",
       "    </tr>\n",
       "    <tr>\n",
       "      <th>3604</th>\n",
       "      <td>3604</td>\n",
       "      <td>Magnitude of Subsistence Poor Population</td>\n",
       "      <td>2015</td>\n",
       "      <td>Zamboanga del Sur</td>\n",
       "      <td>143,740</td>\n",
       "      <td>Province</td>\n",
       "      <td>Region IX</td>\n",
       "      <td>population</td>\n",
       "    </tr>\n",
       "  </tbody>\n",
       "</table>\n",
       "<p>3605 rows × 8 columns</p>\n",
       "</div>"
      ],
      "text/plain": [
       "      Unnamed: 0                                        Variable  Year  \\\n",
       "0              0  Annual Per Capita Poverty Threshold (in Pesos)  1991   \n",
       "1              1  Annual Per Capita Poverty Threshold (in Pesos)  2006   \n",
       "2              2  Annual Per Capita Poverty Threshold (in Pesos)  2009   \n",
       "3              3  Annual Per Capita Poverty Threshold (in Pesos)  2012   \n",
       "4              4  Annual Per Capita Poverty Threshold (in Pesos)  2015   \n",
       "...          ...                                             ...   ...   \n",
       "3600        3600        Magnitude of Subsistence Poor Population  1991   \n",
       "3601        3601        Magnitude of Subsistence Poor Population  2006   \n",
       "3602        3602        Magnitude of Subsistence Poor Population  2009   \n",
       "3603        3603        Magnitude of Subsistence Poor Population  2012   \n",
       "3604        3604        Magnitude of Subsistence Poor Population  2015   \n",
       "\n",
       "               province       value adm_level     region        unit  \n",
       "0          1st District         NaN  District        NCR    in Pesos  \n",
       "1          1st District     15,699   District        NCR    in Pesos  \n",
       "2          1st District     19,227   District        NCR    in Pesos  \n",
       "3          1st District     20,344   District        NCR    in Pesos  \n",
       "4          1st District     25,007   District        NCR    in Pesos  \n",
       "...                 ...         ...       ...        ...         ...  \n",
       "3600  Zamboanga del Sur         NaN  Province  Region IX  population  \n",
       "3601  Zamboanga del Sur    268,576   Province  Region IX  population  \n",
       "3602  Zamboanga del Sur    261,992   Province  Region IX  population  \n",
       "3603  Zamboanga del Sur    209,765   Province  Region IX  population  \n",
       "3604  Zamboanga del Sur    143,740   Province  Region IX  population  \n",
       "\n",
       "[3605 rows x 8 columns]"
      ]
     },
     "execution_count": 2,
     "metadata": {},
     "output_type": "execute_result"
    }
   ],
   "source": [
    "input_df = pd.read_csv('povstat_processed.csv')\n",
    "\n",
    "# Copy of df for all processing and analysis, original input_df kept as backup\n",
    "df = input_df.copy() \n",
    "df"
   ]
  },
  {
   "cell_type": "code",
   "execution_count": 3,
   "id": "f938e3ae",
   "metadata": {},
   "outputs": [
    {
     "name": "stdout",
     "output_type": "stream",
     "text": [
      "<class 'pandas.core.frame.DataFrame'>\n",
      "RangeIndex: 3605 entries, 0 to 3604\n",
      "Data columns (total 8 columns):\n",
      " #   Column      Non-Null Count  Dtype \n",
      "---  ------      --------------  ----- \n",
      " 0   Unnamed: 0  3605 non-null   int64 \n",
      " 1   Variable    3605 non-null   object\n",
      " 2   Year        3605 non-null   int64 \n",
      " 3   province    3605 non-null   object\n",
      " 4   value       3010 non-null   object\n",
      " 5   adm_level   3360 non-null   object\n",
      " 6   region      3360 non-null   object\n",
      " 7   unit        3605 non-null   object\n",
      "dtypes: int64(2), object(6)\n",
      "memory usage: 225.4+ KB\n"
     ]
    }
   ],
   "source": [
    "df.info()"
   ]
  },
  {
   "cell_type": "markdown",
   "id": "f77f81d4",
   "metadata": {},
   "source": [
    "# Data Preparation"
   ]
  },
  {
   "cell_type": "markdown",
   "id": "507e8ba9",
   "metadata": {},
   "source": [
    "### Cleanup\n",
    "Before further data preparation, I first drop the unneeded index column and rename columns for consistency."
   ]
  },
  {
   "cell_type": "code",
   "execution_count": 4,
   "id": "9ad0baa8",
   "metadata": {},
   "outputs": [],
   "source": [
    "# Drop first column (index) as Pandas dataframe already adds index\n",
    "df.drop(columns=df.columns[[0]], axis=1, inplace=True)"
   ]
  },
  {
   "cell_type": "code",
   "execution_count": 5,
   "id": "e87b391f",
   "metadata": {},
   "outputs": [],
   "source": [
    "# Rename columns\n",
    "df.rename(columns = {\n",
    "    'Variable': 'Variable',\n",
    "    'Year': 'Year',\n",
    "    'province': 'Province',\n",
    "    'value': 'Value',\n",
    "    'adm_level': 'Admin_Lvl',\n",
    "    'region': 'Region',\n",
    "    'unit': 'Unit'\n",
    "}, inplace=True)"
   ]
  },
  {
   "cell_type": "markdown",
   "id": "021f17b1",
   "metadata": {},
   "source": [
    "### Inspect unique values\n",
    "To get a general grasp of the dataset, I then inspect the unique values of each column. This helps give a grasp of:\n",
    "- How diverse the values are per column\n",
    "- The datatype of each column\n",
    "- Missing values (if any)"
   ]
  },
  {
   "cell_type": "code",
   "execution_count": 6,
   "id": "4642dc3d",
   "metadata": {},
   "outputs": [
    {
     "name": "stdout",
     "output_type": "stream",
     "text": [
      "Unique value counts per column:\n"
     ]
    },
    {
     "data": {
      "text/plain": [
       "Variable        7\n",
       "Year            5\n",
       "Province      103\n",
       "Value        2168\n",
       "Admin_Lvl       4\n",
       "Region         18\n",
       "Unit            4\n",
       "dtype: int64"
      ]
     },
     "execution_count": 6,
     "metadata": {},
     "output_type": "execute_result"
    }
   ],
   "source": [
    "# Print counts of unique values per column\n",
    "print(\"Unique value counts per column:\")\n",
    "df.nunique()"
   ]
  },
  {
   "cell_type": "code",
   "execution_count": 7,
   "id": "ac509eff",
   "metadata": {},
   "outputs": [],
   "source": [
    "# List unique values per column\n",
    "unique_vars = df['Variable'].unique().tolist()\n",
    "unique_years = df['Year'].unique().tolist()\n",
    "unique_admins = df['Admin_Lvl'].unique().tolist()\n",
    "unique_regions = df['Region'].unique().tolist()\n",
    "unique_units = df['Unit'].unique().tolist()"
   ]
  },
  {
   "cell_type": "code",
   "execution_count": 8,
   "id": "7549a546",
   "metadata": {},
   "outputs": [
    {
     "name": "stdout",
     "output_type": "stream",
     "text": [
      "Unique values in Variable:\n",
      "Annual Per Capita Poverty Threshold (in Pesos)\n",
      "Poverty Incidence among Families (%)\n",
      "Magnitude of Poor Families\n",
      "Poverty Incidence among Population (%)\n",
      "Magnitude of Poor Population\n",
      "Subsistence Incidence among Population (%)\n",
      "Magnitude of Subsistence Poor Population\n"
     ]
    }
   ],
   "source": [
    "print(\"Unique values in Variable:\")\n",
    "print(\"\\n\".join(map(str, unique_vars)))"
   ]
  },
  {
   "cell_type": "code",
   "execution_count": 9,
   "id": "f03e862e",
   "metadata": {},
   "outputs": [
    {
     "name": "stdout",
     "output_type": "stream",
     "text": [
      "Unique values in Year:\n",
      "1991\n",
      "2006\n",
      "2009\n",
      "2012\n",
      "2015\n"
     ]
    }
   ],
   "source": [
    "print(\"Unique values in Year:\")\n",
    "print(\"\\n\".join(map(str, unique_years)))"
   ]
  },
  {
   "cell_type": "code",
   "execution_count": 10,
   "id": "91769735",
   "metadata": {},
   "outputs": [
    {
     "name": "stdout",
     "output_type": "stream",
     "text": [
      "Unique values in Admin_Lvl:\n",
      "District\n",
      "Region\n",
      "Province\n",
      "nan\n",
      "Country\n"
     ]
    }
   ],
   "source": [
    "print(\"Unique values in Admin_Lvl:\")\n",
    "print(\"\\n\".join(map(str, unique_admins)))"
   ]
  },
  {
   "cell_type": "code",
   "execution_count": 11,
   "id": "37bc4b78",
   "metadata": {},
   "outputs": [
    {
     "name": "stdout",
     "output_type": "stream",
     "text": [
      "Unique values in Region:\n",
      "NCR\n",
      "ARMM\n",
      "CAR\n",
      "CARAGA\n",
      "Region VI\n",
      "Region V\n",
      "nan\n",
      "Region III\n",
      "Region VI-A\n",
      "Region VIII\n",
      "Region VII\n",
      "Region X\n",
      "Region II\n",
      "Region XI\n",
      "Region I\n",
      "Region IV-B\n",
      "Region XII\n",
      "Philippines\n",
      "Region IX\n"
     ]
    }
   ],
   "source": [
    "print(\"Unique values in Region:\")\n",
    "print(\"\\n\".join(map(str, unique_regions)))"
   ]
  },
  {
   "cell_type": "code",
   "execution_count": 12,
   "id": "bd901a97",
   "metadata": {
    "scrolled": true
   },
   "outputs": [
    {
     "name": "stdout",
     "output_type": "stream",
     "text": [
      "Unique values in Unit:\n",
      "in Pesos\n",
      "%\n",
      "families\n",
      "population\n"
     ]
    }
   ],
   "source": [
    "print(\"Unique values in Unit:\")\n",
    "print(\"\\n\".join(map(str, unique_units)))"
   ]
  },
  {
   "cell_type": "markdown",
   "id": "a8840f95",
   "metadata": {},
   "source": [
    "From the listed unique values, the ```Value``` and ```Year``` columns appear to be numerical data, while all other columns are categorical data."
   ]
  },
  {
   "cell_type": "markdown",
   "id": "d565e5d0",
   "metadata": {},
   "source": [
    "### Plot data distribution\n",
    "To get a visual sense for the data, I plot the distribution and diversity of data points through countplots."
   ]
  },
  {
   "cell_type": "code",
   "execution_count": 13,
   "id": "54046f03",
   "metadata": {},
   "outputs": [],
   "source": [
    "# Abbreviations for x tick labels\n",
    "vars_labels = ['APT', 'PI(F)', 'MPF', 'PI(P)', 'MPP', 'SI', 'MSP']\n",
    "year_labels = unique_years\n",
    "prov_labels = []\n",
    "admin_labels = ['District', 'Region', 'Province', 'Country']\n",
    "region_labels = ['NCR', 'ARMM', 'CAR', '13', '6', '5', '3', '4A', '8', '7', '10', '2', '11', '1', '4B', '12', 'PH', '9']\n",
    "unit_labels = unique_units\n",
    "\n",
    "xticklabels = [vars_labels, year_labels, prov_labels, admin_labels, region_labels, unit_labels]"
   ]
  },
  {
   "cell_type": "code",
   "execution_count": 14,
   "id": "d802ffcf",
   "metadata": {},
   "outputs": [
    {
     "data": {
      "image/png": "[encoded data removed]",
      "text/plain": [
       "<Figure size 1000x1000 with 6 Axes>"
      ]
     },
     "metadata": {},
     "output_type": "display_data"
    }
   ],
   "source": [
    "# Show general distribution of data\n",
    "\n",
    "# Get list of columns to iterate over\n",
    "cols = list(df.columns)\n",
    "cols.remove('Value')\n",
    "\n",
    "\n",
    "# PLot distribution\n",
    "plt.figure(figsize = (10, 10))\n",
    "plt.suptitle(\"Distribution of data\")\n",
    "\n",
    "for i in range(len(cols)):\n",
    "    ax = plt.subplot(3, 2, i+1)\n",
    "    sns.countplot(data=df, x=cols[i], palette='rocket')\n",
    "    ax.set_ylabel('')\n",
    "    ax.set_xticklabels(xticklabels[i], fontsize=6)\n",
    "\n",
    "plt.tight_layout()\n",
    "plt.show()"
   ]
  },
  {
   "cell_type": "markdown",
   "id": "d27696b4",
   "metadata": {},
   "source": [
    "### Cast columns to relevant datatypes\n",
    "Each column is then cast to their respective datatype for compatibility with Pandas/Seaborn/NumPy later during analysis. Only ```Value``` needs to be prepared for type conversion, which is done as below."
   ]
  },
  {
   "cell_type": "code",
   "execution_count": 15,
   "id": "0ced8dbe",
   "metadata": {},
   "outputs": [
    {
     "name": "stdout",
     "output_type": "stream",
     "text": [
      "1671 faulty values returned:\n"
     ]
    },
    {
     "data": {
      "text/plain": [
       "[nan, '  15,699 ', '  19,227 ', '  20,344 ', '  25,007 ']"
      ]
     },
     "execution_count": 15,
     "metadata": {},
     "output_type": "execute_result"
    }
   ],
   "source": [
    "# Inspect which entries under 'Value' may cause trouble with type conversion\n",
    "faulty_values = df[pd.to_numeric(df['Value'], errors='coerce').isnull()]['Value'].unique()\n",
    "\n",
    "print(f\"{len(faulty_values)} faulty values returned:\")\n",
    "list(faulty_values)[:5] # Only 5 shown in this notebook for brevity"
   ]
  },
  {
   "cell_type": "code",
   "execution_count": 16,
   "id": "657c57c5",
   "metadata": {},
   "outputs": [],
   "source": [
    "# Apply adjustments to entries under 'Value' to prepare for type conversion\n",
    "df['Value'] = df['Value'].str.strip()\n",
    "df['Value'] = df['Value'].str.replace(\",\", \"\")\n",
    "df['Value'] = df['Value'].replace(\"-\", np.NaN)"
   ]
  },
  {
   "cell_type": "code",
   "execution_count": 17,
   "id": "84bca467",
   "metadata": {},
   "outputs": [
    {
     "name": "stdout",
     "output_type": "stream",
     "text": [
      "<class 'pandas.core.frame.DataFrame'>\n",
      "RangeIndex: 3605 entries, 0 to 3604\n",
      "Data columns (total 7 columns):\n",
      " #   Column     Non-Null Count  Dtype   \n",
      "---  ------     --------------  -----   \n",
      " 0   Variable   3605 non-null   category\n",
      " 1   Year       3605 non-null   int64   \n",
      " 2   Province   3605 non-null   category\n",
      " 3   Value      3008 non-null   float64 \n",
      " 4   Admin_Lvl  3360 non-null   category\n",
      " 5   Region     3360 non-null   category\n",
      " 6   Unit       3605 non-null   category\n",
      "dtypes: category(5), float64(1), int64(1)\n",
      "memory usage: 80.4 KB\n"
     ]
    }
   ],
   "source": [
    "# Convert datatypes of all columns into more relevant ones\n",
    "df = df.astype({\n",
    "    'Variable': 'category',\n",
    "    'Year': 'int64',\n",
    "    'Province': 'category',\n",
    "    'Value': 'float64',\n",
    "    'Admin_Lvl': 'category',\n",
    "    'Region': 'category',\n",
    "    'Unit': 'category'\n",
    "})\n",
    "\n",
    "# Inspect new datatypes\n",
    "df.info()"
   ]
  },
  {
   "cell_type": "markdown",
   "id": "24f29e13",
   "metadata": {},
   "source": [
    "### Inspect missing values\n",
    "Missing values are then inspected to investigate:\n",
    "- Are there any patterns to the missing data?\n",
    "- Are the missing data in the same format?\n",
    "- How prevalent is the missing data, and in which columns?\n",
    "- How should the missing data be acted upon? Should it be excluded from analysis or does it enrich analysis?\n",
    "- Would the missing data still contribute to developing a better picture of poverty?\n",
    "\n",
    "Since the unique values listed earlier already show that the missing values are already in a Pandas-readable format (i.e. ```NaN``` instead of ```\"N/A\"```, ```\"No\"```, etc.), the next step is to inspect missing values across the whole dataset."
   ]
  },
  {
   "cell_type": "code",
   "execution_count": 18,
   "id": "d1734067",
   "metadata": {},
   "outputs": [
    {
     "data": {
      "text/html": [
       "<div>\n",
       "<style scoped>\n",
       "    .dataframe tbody tr th:only-of-type {\n",
       "        vertical-align: middle;\n",
       "    }\n",
       "\n",
       "    .dataframe tbody tr th {\n",
       "        vertical-align: top;\n",
       "    }\n",
       "\n",
       "    .dataframe thead th {\n",
       "        text-align: right;\n",
       "    }\n",
       "</style>\n",
       "<table border=\"1\" class=\"dataframe\">\n",
       "  <thead>\n",
       "    <tr style=\"text-align: right;\">\n",
       "      <th></th>\n",
       "      <th>Count of missing values</th>\n",
       "      <th>Percent of total</th>\n",
       "    </tr>\n",
       "  </thead>\n",
       "  <tbody>\n",
       "    <tr>\n",
       "      <th>Variable</th>\n",
       "      <td>0</td>\n",
       "      <td>0.000000</td>\n",
       "    </tr>\n",
       "    <tr>\n",
       "      <th>Year</th>\n",
       "      <td>0</td>\n",
       "      <td>0.000000</td>\n",
       "    </tr>\n",
       "    <tr>\n",
       "      <th>Province</th>\n",
       "      <td>0</td>\n",
       "      <td>0.000000</td>\n",
       "    </tr>\n",
       "    <tr>\n",
       "      <th>Value</th>\n",
       "      <td>597</td>\n",
       "      <td>0.165603</td>\n",
       "    </tr>\n",
       "    <tr>\n",
       "      <th>Admin_Lvl</th>\n",
       "      <td>245</td>\n",
       "      <td>0.067961</td>\n",
       "    </tr>\n",
       "    <tr>\n",
       "      <th>Region</th>\n",
       "      <td>245</td>\n",
       "      <td>0.067961</td>\n",
       "    </tr>\n",
       "    <tr>\n",
       "      <th>Unit</th>\n",
       "      <td>0</td>\n",
       "      <td>0.000000</td>\n",
       "    </tr>\n",
       "  </tbody>\n",
       "</table>\n",
       "</div>"
      ],
      "text/plain": [
       "           Count of missing values  Percent of total\n",
       "Variable                         0          0.000000\n",
       "Year                             0          0.000000\n",
       "Province                         0          0.000000\n",
       "Value                          597          0.165603\n",
       "Admin_Lvl                      245          0.067961\n",
       "Region                         245          0.067961\n",
       "Unit                             0          0.000000"
      ]
     },
     "execution_count": 18,
     "metadata": {},
     "output_type": "execute_result"
    }
   ],
   "source": [
    "# Show total of missing values per column \n",
    "missing_count = df.isna().sum()\n",
    "missing_percent = (df.isna().sum()/df.isna().count())\n",
    "\n",
    "pd.concat([missing_count, missing_percent], \n",
    "          axis=1, \n",
    "          keys=['Count of missing values', 'Percent of total'])"
   ]
  },
  {
   "cell_type": "markdown",
   "id": "8aeca888",
   "metadata": {},
   "source": [
    "### Inspect missing values: ```Admin_Lvl``` & ```Region```"
   ]
  },
  {
   "cell_type": "markdown",
   "id": "a65956af",
   "metadata": {},
   "source": [
    "Given the same amount of missing values, I first test whether missing ```Admin_Lvl``` & ```Region``` may be from the same rows (i.e. whatever is missing ```Admin_Lvl``` is also be missing ```Region``` data). This hypothesis can be tested with a simple comparison check below."
   ]
  },
  {
   "cell_type": "code",
   "execution_count": 19,
   "id": "f11864c6",
   "metadata": {},
   "outputs": [
    {
     "name": "stdout",
     "output_type": "stream",
     "text": [
      "Are rows with missing Admin_Lvl rows the same as the rows with missing Region values (and vice versa)?\n",
      "True\n"
     ]
    }
   ],
   "source": [
    "# Investigate missing Admin_Lvl & Region values\n",
    "\n",
    "# Extract rows with missing Admin_Lvl\n",
    "missing_admin = df[df['Admin_Lvl'].isna()]\n",
    "# Extract rows with missing Region\n",
    "missing_region = df[df['Region'].isna()]\n",
    "\n",
    "print(\"Are rows with missing Admin_Lvl rows the same as the rows with missing Region values (and vice versa)?\")\n",
    "print(missing_admin.equals(missing_region))"
   ]
  },
  {
   "cell_type": "code",
   "execution_count": 20,
   "id": "8d07433c",
   "metadata": {},
   "outputs": [
    {
     "data": {
      "text/html": [
       "<div>\n",
       "<style scoped>\n",
       "    .dataframe tbody tr th:only-of-type {\n",
       "        vertical-align: middle;\n",
       "    }\n",
       "\n",
       "    .dataframe tbody tr th {\n",
       "        vertical-align: top;\n",
       "    }\n",
       "\n",
       "    .dataframe thead th {\n",
       "        text-align: right;\n",
       "    }\n",
       "</style>\n",
       "<table border=\"1\" class=\"dataframe\">\n",
       "  <thead>\n",
       "    <tr style=\"text-align: right;\">\n",
       "      <th></th>\n",
       "      <th>Count of missing values</th>\n",
       "      <th>Percent of total</th>\n",
       "    </tr>\n",
       "  </thead>\n",
       "  <tbody>\n",
       "    <tr>\n",
       "      <th>Camiguin</th>\n",
       "      <td>35</td>\n",
       "      <td>1.0</td>\n",
       "    </tr>\n",
       "    <tr>\n",
       "      <th>Cotabato City,</th>\n",
       "      <td>35</td>\n",
       "      <td>1.0</td>\n",
       "    </tr>\n",
       "    <tr>\n",
       "      <th>Isabela City,</th>\n",
       "      <td>35</td>\n",
       "      <td>1.0</td>\n",
       "    </tr>\n",
       "    <tr>\n",
       "      <th>Guimaras,</th>\n",
       "      <td>35</td>\n",
       "      <td>1.0</td>\n",
       "    </tr>\n",
       "    <tr>\n",
       "      <th>Aurora</th>\n",
       "      <td>35</td>\n",
       "      <td>1.0</td>\n",
       "    </tr>\n",
       "    <tr>\n",
       "      <th>Siquijor,</th>\n",
       "      <td>35</td>\n",
       "      <td>1.0</td>\n",
       "    </tr>\n",
       "    <tr>\n",
       "      <th>Batanes</th>\n",
       "      <td>35</td>\n",
       "      <td>1.0</td>\n",
       "    </tr>\n",
       "  </tbody>\n",
       "</table>\n",
       "</div>"
      ],
      "text/plain": [
       "                Count of missing values  Percent of total\n",
       "Camiguin                             35               1.0\n",
       "Cotabato City,                       35               1.0\n",
       "Isabela City,                        35               1.0\n",
       "Guimaras,                            35               1.0\n",
       "Aurora                               35               1.0\n",
       "Siquijor,                            35               1.0\n",
       "Batanes                              35               1.0"
      ]
     },
     "execution_count": 20,
     "metadata": {},
     "output_type": "execute_result"
    }
   ],
   "source": [
    "# Inspect provinces with missing Admin_Lvl and Region values\n",
    "\n",
    "# Get province occurrences with missing Admin_Lvl and Region values\n",
    "missing_province_counts = missing_admin['Province'].value_counts()\n",
    "missing_provinces = missing_province_counts[missing_province_counts > 0]\n",
    "\n",
    "# Get overall counts of those provinces from the overall dataset\n",
    "province_counts = df['Province'].value_counts()\n",
    "province_counts = province_counts[missing_provinces.index]\n",
    "\n",
    "missing_provinces_percent = (missing_provinces/province_counts)\n",
    "\n",
    "\n",
    "pd.concat([missing_provinces, missing_provinces_percent], \n",
    "          axis=1, \n",
    "          keys=['Count of missing values', 'Percent of total'])"
   ]
  },
  {
   "cell_type": "markdown",
   "id": "15896be1",
   "metadata": {},
   "source": [
    "From the table above, all data points for these provinces are missing ```Admin_Lvl``` and ```Region``` data, which will later be addressed. There are also minor typographical errors with extra commas that can be fixed."
   ]
  },
  {
   "cell_type": "code",
   "execution_count": 21,
   "id": "f7713065",
   "metadata": {},
   "outputs": [
    {
     "data": {
      "text/html": [
       "<div>\n",
       "<style scoped>\n",
       "    .dataframe tbody tr th:only-of-type {\n",
       "        vertical-align: middle;\n",
       "    }\n",
       "\n",
       "    .dataframe tbody tr th {\n",
       "        vertical-align: top;\n",
       "    }\n",
       "\n",
       "    .dataframe thead th {\n",
       "        text-align: right;\n",
       "    }\n",
       "</style>\n",
       "<table border=\"1\" class=\"dataframe\">\n",
       "  <thead>\n",
       "    <tr style=\"text-align: right;\">\n",
       "      <th></th>\n",
       "      <th>Variable</th>\n",
       "      <th>Year</th>\n",
       "      <th>Province</th>\n",
       "      <th>Value</th>\n",
       "      <th>Admin_Lvl</th>\n",
       "      <th>Region</th>\n",
       "      <th>Unit</th>\n",
       "    </tr>\n",
       "  </thead>\n",
       "  <tbody>\n",
       "    <tr>\n",
       "      <th>3080</th>\n",
       "      <td>Annual Per Capita Poverty Threshold (in Pesos)</td>\n",
       "      <td>1991</td>\n",
       "      <td>Siquijor</td>\n",
       "      <td>NaN</td>\n",
       "      <td>NaN</td>\n",
       "      <td>NaN</td>\n",
       "      <td>in Pesos</td>\n",
       "    </tr>\n",
       "    <tr>\n",
       "      <th>3081</th>\n",
       "      <td>Annual Per Capita Poverty Threshold (in Pesos)</td>\n",
       "      <td>2006</td>\n",
       "      <td>Siquijor</td>\n",
       "      <td>13971.0</td>\n",
       "      <td>NaN</td>\n",
       "      <td>NaN</td>\n",
       "      <td>in Pesos</td>\n",
       "    </tr>\n",
       "  </tbody>\n",
       "</table>\n",
       "</div>"
      ],
      "text/plain": [
       "                                            Variable  Year  Province    Value  \\\n",
       "3080  Annual Per Capita Poverty Threshold (in Pesos)  1991  Siquijor      NaN   \n",
       "3081  Annual Per Capita Poverty Threshold (in Pesos)  2006  Siquijor  13971.0   \n",
       "\n",
       "     Admin_Lvl Region      Unit  \n",
       "3080       NaN    NaN  in Pesos  \n",
       "3081       NaN    NaN  in Pesos  "
      ]
     },
     "execution_count": 21,
     "metadata": {},
     "output_type": "execute_result"
    }
   ],
   "source": [
    "# Rename provinces with extra commas\n",
    "df = df.replace('Cotabato City,', 'Cotabato City')\n",
    "df = df.replace('Isabela City,', 'Isabela City')\n",
    "df = df.replace('Guimaras,', 'Guimaras')\n",
    "df = df.replace('Siquijor,', 'Siquijor')\n",
    "\n",
    "# Show a few sample rows to demonstrate changes\n",
    "df.loc[df['Province'] == 'Siquijor'][:2]"
   ]
  },
  {
   "cell_type": "markdown",
   "id": "e28e6e9a",
   "metadata": {},
   "source": [
    "Based on the type of missing data, ```Admin_Lvl``` and ```Region``` can still be filled in with accuracy based on  ```Province```. Hence, the missing data is filled below."
   ]
  },
  {
   "cell_type": "code",
   "execution_count": 22,
   "id": "b1963464",
   "metadata": {},
   "outputs": [
    {
     "data": {
      "text/html": [
       "<div>\n",
       "<style scoped>\n",
       "    .dataframe tbody tr th:only-of-type {\n",
       "        vertical-align: middle;\n",
       "    }\n",
       "\n",
       "    .dataframe tbody tr th {\n",
       "        vertical-align: top;\n",
       "    }\n",
       "\n",
       "    .dataframe thead th {\n",
       "        text-align: right;\n",
       "    }\n",
       "</style>\n",
       "<table border=\"1\" class=\"dataframe\">\n",
       "  <thead>\n",
       "    <tr style=\"text-align: right;\">\n",
       "      <th></th>\n",
       "      <th>Variable</th>\n",
       "      <th>Year</th>\n",
       "      <th>Province</th>\n",
       "      <th>Value</th>\n",
       "      <th>Admin_Lvl</th>\n",
       "      <th>Region</th>\n",
       "      <th>Unit</th>\n",
       "    </tr>\n",
       "  </thead>\n",
       "  <tbody>\n",
       "    <tr>\n",
       "      <th>420</th>\n",
       "      <td>Annual Per Capita Poverty Threshold (in Pesos)</td>\n",
       "      <td>1991</td>\n",
       "      <td>Aurora</td>\n",
       "      <td>NaN</td>\n",
       "      <td>Province</td>\n",
       "      <td>Region III</td>\n",
       "      <td>in Pesos</td>\n",
       "    </tr>\n",
       "    <tr>\n",
       "      <th>421</th>\n",
       "      <td>Annual Per Capita Poverty Threshold (in Pesos)</td>\n",
       "      <td>2006</td>\n",
       "      <td>Aurora</td>\n",
       "      <td>11883.0</td>\n",
       "      <td>Province</td>\n",
       "      <td>Region III</td>\n",
       "      <td>in Pesos</td>\n",
       "    </tr>\n",
       "    <tr>\n",
       "      <th>422</th>\n",
       "      <td>Annual Per Capita Poverty Threshold (in Pesos)</td>\n",
       "      <td>2009</td>\n",
       "      <td>Aurora</td>\n",
       "      <td>14979.0</td>\n",
       "      <td>Province</td>\n",
       "      <td>Region III</td>\n",
       "      <td>in Pesos</td>\n",
       "    </tr>\n",
       "    <tr>\n",
       "      <th>423</th>\n",
       "      <td>Annual Per Capita Poverty Threshold (in Pesos)</td>\n",
       "      <td>2012</td>\n",
       "      <td>Aurora</td>\n",
       "      <td>18466.0</td>\n",
       "      <td>Province</td>\n",
       "      <td>Region III</td>\n",
       "      <td>in Pesos</td>\n",
       "    </tr>\n",
       "    <tr>\n",
       "      <th>424</th>\n",
       "      <td>Annual Per Capita Poverty Threshold (in Pesos)</td>\n",
       "      <td>2015</td>\n",
       "      <td>Aurora</td>\n",
       "      <td>20458.0</td>\n",
       "      <td>Province</td>\n",
       "      <td>Region III</td>\n",
       "      <td>in Pesos</td>\n",
       "    </tr>\n",
       "    <tr>\n",
       "      <th>...</th>\n",
       "      <td>...</td>\n",
       "      <td>...</td>\n",
       "      <td>...</td>\n",
       "      <td>...</td>\n",
       "      <td>...</td>\n",
       "      <td>...</td>\n",
       "      <td>...</td>\n",
       "    </tr>\n",
       "    <tr>\n",
       "      <th>3110</th>\n",
       "      <td>Magnitude of Subsistence Poor Population</td>\n",
       "      <td>1991</td>\n",
       "      <td>Siquijor</td>\n",
       "      <td>NaN</td>\n",
       "      <td>Province</td>\n",
       "      <td>Region VII</td>\n",
       "      <td>population</td>\n",
       "    </tr>\n",
       "    <tr>\n",
       "      <th>3111</th>\n",
       "      <td>Magnitude of Subsistence Poor Population</td>\n",
       "      <td>2006</td>\n",
       "      <td>Siquijor</td>\n",
       "      <td>15473.0</td>\n",
       "      <td>Province</td>\n",
       "      <td>Region VII</td>\n",
       "      <td>population</td>\n",
       "    </tr>\n",
       "    <tr>\n",
       "      <th>3112</th>\n",
       "      <td>Magnitude of Subsistence Poor Population</td>\n",
       "      <td>2009</td>\n",
       "      <td>Siquijor</td>\n",
       "      <td>4795.0</td>\n",
       "      <td>Province</td>\n",
       "      <td>Region VII</td>\n",
       "      <td>population</td>\n",
       "    </tr>\n",
       "    <tr>\n",
       "      <th>3113</th>\n",
       "      <td>Magnitude of Subsistence Poor Population</td>\n",
       "      <td>2012</td>\n",
       "      <td>Siquijor</td>\n",
       "      <td>11084.0</td>\n",
       "      <td>Province</td>\n",
       "      <td>Region VII</td>\n",
       "      <td>population</td>\n",
       "    </tr>\n",
       "    <tr>\n",
       "      <th>3114</th>\n",
       "      <td>Magnitude of Subsistence Poor Population</td>\n",
       "      <td>2015</td>\n",
       "      <td>Siquijor</td>\n",
       "      <td>30363.0</td>\n",
       "      <td>Province</td>\n",
       "      <td>Region VII</td>\n",
       "      <td>population</td>\n",
       "    </tr>\n",
       "  </tbody>\n",
       "</table>\n",
       "<p>245 rows × 7 columns</p>\n",
       "</div>"
      ],
      "text/plain": [
       "                                            Variable  Year  Province    Value  \\\n",
       "420   Annual Per Capita Poverty Threshold (in Pesos)  1991    Aurora      NaN   \n",
       "421   Annual Per Capita Poverty Threshold (in Pesos)  2006    Aurora  11883.0   \n",
       "422   Annual Per Capita Poverty Threshold (in Pesos)  2009    Aurora  14979.0   \n",
       "423   Annual Per Capita Poverty Threshold (in Pesos)  2012    Aurora  18466.0   \n",
       "424   Annual Per Capita Poverty Threshold (in Pesos)  2015    Aurora  20458.0   \n",
       "...                                              ...   ...       ...      ...   \n",
       "3110        Magnitude of Subsistence Poor Population  1991  Siquijor      NaN   \n",
       "3111        Magnitude of Subsistence Poor Population  2006  Siquijor  15473.0   \n",
       "3112        Magnitude of Subsistence Poor Population  2009  Siquijor   4795.0   \n",
       "3113        Magnitude of Subsistence Poor Population  2012  Siquijor  11084.0   \n",
       "3114        Magnitude of Subsistence Poor Population  2015  Siquijor  30363.0   \n",
       "\n",
       "     Admin_Lvl      Region        Unit  \n",
       "420   Province  Region III    in Pesos  \n",
       "421   Province  Region III    in Pesos  \n",
       "422   Province  Region III    in Pesos  \n",
       "423   Province  Region III    in Pesos  \n",
       "424   Province  Region III    in Pesos  \n",
       "...        ...         ...         ...  \n",
       "3110  Province  Region VII  population  \n",
       "3111  Province  Region VII  population  \n",
       "3112  Province  Region VII  population  \n",
       "3113  Province  Region VII  population  \n",
       "3114  Province  Region VII  population  \n",
       "\n",
       "[245 rows x 7 columns]"
      ]
     },
     "execution_count": 22,
     "metadata": {},
     "output_type": "execute_result"
    }
   ],
   "source": [
    "# Manually resolve missing Admin_Lvl and Region values based on province\n",
    "\n",
    "provinces = ['Camiguin', 'Cotabato City', 'Isabela City', 'Guimaras', 'Aurora', 'Siquijor', 'Batanes']\n",
    "regions = ['Region X', 'Region XII', 'Region IX', 'Region VI', 'Region III', 'Region VII', 'Region II']\n",
    "\n",
    "for index, province in enumerate(provinces):\n",
    "    df.loc[df['Province'] == province, 'Admin_Lvl'] = 'Province'\n",
    "    df.loc[df['Province'] == province, 'Region'] = regions[index]\n",
    "\n",
    "# Show a few sample rows to demonstrate changes\n",
    "df.loc[df['Province'].isin(provinces)]"
   ]
  },
  {
   "cell_type": "code",
   "execution_count": 23,
   "id": "b6796777",
   "metadata": {},
   "outputs": [
    {
     "name": "stdout",
     "output_type": "stream",
     "text": [
      "<class 'pandas.core.frame.DataFrame'>\n",
      "RangeIndex: 3605 entries, 0 to 3604\n",
      "Data columns (total 7 columns):\n",
      " #   Column     Non-Null Count  Dtype   \n",
      "---  ------     --------------  -----   \n",
      " 0   Variable   3605 non-null   category\n",
      " 1   Year       3605 non-null   int64   \n",
      " 2   Province   3605 non-null   category\n",
      " 3   Value      3008 non-null   float64 \n",
      " 4   Admin_Lvl  3605 non-null   category\n",
      " 5   Region     3605 non-null   category\n",
      " 6   Unit       3605 non-null   category\n",
      "dtypes: category(5), float64(1), int64(1)\n",
      "memory usage: 80.4 KB\n"
     ]
    }
   ],
   "source": [
    "# Check if all missing Admin_Lvl & Region values have been addressed\n",
    "df.info()"
   ]
  },
  {
   "cell_type": "markdown",
   "id": "b7d42595",
   "metadata": {},
   "source": [
    "There are now 3605/3605 non-null values for ```Admin_Lvl``` & ```Region```, so all missing values under these have been resolved."
   ]
  },
  {
   "cell_type": "markdown",
   "id": "7799fd14",
   "metadata": {},
   "source": [
    "### Inspect missing values: ```Value```\n",
    "Next, any possible patterns for missing data under ```Value``` are investigated."
   ]
  },
  {
   "cell_type": "code",
   "execution_count": 24,
   "id": "d15d217b",
   "metadata": {},
   "outputs": [
    {
     "data": {
      "text/html": [
       "<div>\n",
       "<style scoped>\n",
       "    .dataframe tbody tr th:only-of-type {\n",
       "        vertical-align: middle;\n",
       "    }\n",
       "\n",
       "    .dataframe tbody tr th {\n",
       "        vertical-align: top;\n",
       "    }\n",
       "\n",
       "    .dataframe thead th {\n",
       "        text-align: right;\n",
       "    }\n",
       "</style>\n",
       "<table border=\"1\" class=\"dataframe\">\n",
       "  <thead>\n",
       "    <tr style=\"text-align: right;\">\n",
       "      <th></th>\n",
       "      <th>Variable</th>\n",
       "      <th>Year</th>\n",
       "      <th>Province</th>\n",
       "      <th>Value</th>\n",
       "      <th>Admin_Lvl</th>\n",
       "      <th>Region</th>\n",
       "      <th>Unit</th>\n",
       "    </tr>\n",
       "  </thead>\n",
       "  <tbody>\n",
       "    <tr>\n",
       "      <th>0</th>\n",
       "      <td>Annual Per Capita Poverty Threshold (in Pesos)</td>\n",
       "      <td>1991</td>\n",
       "      <td>1st District</td>\n",
       "      <td>NaN</td>\n",
       "      <td>District</td>\n",
       "      <td>NCR</td>\n",
       "      <td>in Pesos</td>\n",
       "    </tr>\n",
       "    <tr>\n",
       "      <th>5</th>\n",
       "      <td>Poverty Incidence among Families (%)</td>\n",
       "      <td>1991</td>\n",
       "      <td>1st District</td>\n",
       "      <td>NaN</td>\n",
       "      <td>District</td>\n",
       "      <td>NCR</td>\n",
       "      <td>%</td>\n",
       "    </tr>\n",
       "    <tr>\n",
       "      <th>10</th>\n",
       "      <td>Magnitude of Poor Families</td>\n",
       "      <td>1991</td>\n",
       "      <td>1st District</td>\n",
       "      <td>NaN</td>\n",
       "      <td>District</td>\n",
       "      <td>NCR</td>\n",
       "      <td>families</td>\n",
       "    </tr>\n",
       "    <tr>\n",
       "      <th>15</th>\n",
       "      <td>Poverty Incidence among Population (%)</td>\n",
       "      <td>1991</td>\n",
       "      <td>1st District</td>\n",
       "      <td>NaN</td>\n",
       "      <td>District</td>\n",
       "      <td>NCR</td>\n",
       "      <td>%</td>\n",
       "    </tr>\n",
       "    <tr>\n",
       "      <th>20</th>\n",
       "      <td>Magnitude of Poor Population</td>\n",
       "      <td>1991</td>\n",
       "      <td>1st District</td>\n",
       "      <td>NaN</td>\n",
       "      <td>District</td>\n",
       "      <td>NCR</td>\n",
       "      <td>population</td>\n",
       "    </tr>\n",
       "    <tr>\n",
       "      <th>...</th>\n",
       "      <td>...</td>\n",
       "      <td>...</td>\n",
       "      <td>...</td>\n",
       "      <td>...</td>\n",
       "      <td>...</td>\n",
       "      <td>...</td>\n",
       "      <td>...</td>\n",
       "    </tr>\n",
       "    <tr>\n",
       "      <th>3580</th>\n",
       "      <td>Magnitude of Poor Families</td>\n",
       "      <td>1991</td>\n",
       "      <td>Zamboanga del Sur</td>\n",
       "      <td>NaN</td>\n",
       "      <td>Province</td>\n",
       "      <td>Region IX</td>\n",
       "      <td>families</td>\n",
       "    </tr>\n",
       "    <tr>\n",
       "      <th>3585</th>\n",
       "      <td>Poverty Incidence among Population (%)</td>\n",
       "      <td>1991</td>\n",
       "      <td>Zamboanga del Sur</td>\n",
       "      <td>NaN</td>\n",
       "      <td>Province</td>\n",
       "      <td>Region IX</td>\n",
       "      <td>%</td>\n",
       "    </tr>\n",
       "    <tr>\n",
       "      <th>3590</th>\n",
       "      <td>Magnitude of Poor Population</td>\n",
       "      <td>1991</td>\n",
       "      <td>Zamboanga del Sur</td>\n",
       "      <td>NaN</td>\n",
       "      <td>Province</td>\n",
       "      <td>Region IX</td>\n",
       "      <td>population</td>\n",
       "    </tr>\n",
       "    <tr>\n",
       "      <th>3595</th>\n",
       "      <td>Subsistence Incidence among Population (%)</td>\n",
       "      <td>1991</td>\n",
       "      <td>Zamboanga del Sur</td>\n",
       "      <td>NaN</td>\n",
       "      <td>Province</td>\n",
       "      <td>Region IX</td>\n",
       "      <td>%</td>\n",
       "    </tr>\n",
       "    <tr>\n",
       "      <th>3600</th>\n",
       "      <td>Magnitude of Subsistence Poor Population</td>\n",
       "      <td>1991</td>\n",
       "      <td>Zamboanga del Sur</td>\n",
       "      <td>NaN</td>\n",
       "      <td>Province</td>\n",
       "      <td>Region IX</td>\n",
       "      <td>population</td>\n",
       "    </tr>\n",
       "  </tbody>\n",
       "</table>\n",
       "<p>597 rows × 7 columns</p>\n",
       "</div>"
      ],
      "text/plain": [
       "                                            Variable  Year           Province  \\\n",
       "0     Annual Per Capita Poverty Threshold (in Pesos)  1991       1st District   \n",
       "5               Poverty Incidence among Families (%)  1991       1st District   \n",
       "10                        Magnitude of Poor Families  1991       1st District   \n",
       "15            Poverty Incidence among Population (%)  1991       1st District   \n",
       "20                      Magnitude of Poor Population  1991       1st District   \n",
       "...                                              ...   ...                ...   \n",
       "3580                      Magnitude of Poor Families  1991  Zamboanga del Sur   \n",
       "3585          Poverty Incidence among Population (%)  1991  Zamboanga del Sur   \n",
       "3590                    Magnitude of Poor Population  1991  Zamboanga del Sur   \n",
       "3595      Subsistence Incidence among Population (%)  1991  Zamboanga del Sur   \n",
       "3600        Magnitude of Subsistence Poor Population  1991  Zamboanga del Sur   \n",
       "\n",
       "      Value Admin_Lvl     Region        Unit  \n",
       "0       NaN  District        NCR    in Pesos  \n",
       "5       NaN  District        NCR           %  \n",
       "10      NaN  District        NCR    families  \n",
       "15      NaN  District        NCR           %  \n",
       "20      NaN  District        NCR  population  \n",
       "...     ...       ...        ...         ...  \n",
       "3580    NaN  Province  Region IX    families  \n",
       "3585    NaN  Province  Region IX           %  \n",
       "3590    NaN  Province  Region IX  population  \n",
       "3595    NaN  Province  Region IX           %  \n",
       "3600    NaN  Province  Region IX  population  \n",
       "\n",
       "[597 rows x 7 columns]"
      ]
     },
     "execution_count": 24,
     "metadata": {},
     "output_type": "execute_result"
    }
   ],
   "source": [
    "# Extract rows with missing data under \"Value\"\n",
    "missing_values = df[df['Value'].isna()]\n",
    "missing_values"
   ]
  },
  {
   "cell_type": "code",
   "execution_count": 25,
   "id": "cd3d7558",
   "metadata": {},
   "outputs": [
    {
     "name": "stdout",
     "output_type": "stream",
     "text": [
      "Unique value counts for rows that have missing values:\n"
     ]
    },
    {
     "data": {
      "text/plain": [
       "Variable      7\n",
       "Year          2\n",
       "Province     85\n",
       "Value         0\n",
       "Admin_Lvl     2\n",
       "Region       17\n",
       "Unit          4\n",
       "dtype: int64"
      ]
     },
     "execution_count": 25,
     "metadata": {},
     "output_type": "execute_result"
    }
   ],
   "source": [
    "# Inspect unique value counts\n",
    "print(\"Unique value counts for rows that have missing values:\")\n",
    "missing_values.nunique()"
   ]
  },
  {
   "cell_type": "code",
   "execution_count": 26,
   "id": "d5368867",
   "metadata": {},
   "outputs": [
    {
     "data": {
      "image/png": "[encoded data removed]",
      "text/plain": [
       "<Figure size 1000x1000 with 6 Axes>"
      ]
     },
     "metadata": {},
     "output_type": "display_data"
    }
   ],
   "source": [
    "# Get list of other columns to iterate over\n",
    "cols = list(df.columns)\n",
    "cols.remove('Value')\n",
    "\n",
    "# PLot distribution of missing values\n",
    "plt.figure(figsize = (10, 10))\n",
    "plt.suptitle(\"Distribution of missing values\")\n",
    "\n",
    "# Abbreviations for x tick labels\n",
    "xticklabels = [vars_labels, [1991, 2015], prov_labels, admin_labels, region_labels, unit_labels]\n",
    "\n",
    "for i in range(len(cols)):\n",
    "    ax = plt.subplot(3, 2, i+1)\n",
    "    sns.countplot(data=missing_values, x=cols[i], palette='rocket')\n",
    "    ax.set_ylabel('')\n",
    "    ax.set_xticklabels(xticklabels[i], fontsize=6)\n",
    "\n",
    "plt.tight_layout()\n",
    "plt.show()"
   ]
  },
  {
   "cell_type": "markdown",
   "id": "e559ebbd",
   "metadata": {},
   "source": [
    "The two figures above raise the following observations:\n",
    "- Missing values are overall equally spaced out by ```Variable```, ```Province```, and ```Region```\n",
    "- There are only 2 ```Year```s with missing data, with nearly all concentrated in a single year\n",
    "- Similarly, there are only 2 ```Admin_Lvl```s with missing data, with nearly all concentrated in a single level\n",
    "\n",
    "From the 2nd point, the next step could be to investigate the missing data by year."
   ]
  },
  {
   "cell_type": "code",
   "execution_count": 27,
   "id": "3f40a997",
   "metadata": {},
   "outputs": [
    {
     "name": "stdout",
     "output_type": "stream",
     "text": [
      "Count of missing entries under 'Value' by year\n"
     ]
    },
    {
     "data": {
      "text/plain": [
       "Year\n",
       "1991    595\n",
       "2015      2\n",
       "dtype: int64"
      ]
     },
     "execution_count": 27,
     "metadata": {},
     "output_type": "execute_result"
    }
   ],
   "source": [
    "# Print exact number of missing values by year\n",
    "print(\"Count of missing entries under 'Value' by year\")\n",
    "missing_by_year = missing_values.groupby(by=\"Year\")\n",
    "missing_by_year.size()"
   ]
  },
  {
   "cell_type": "markdown",
   "id": "5575c444",
   "metadata": {},
   "source": [
    "A very small amount of missing values appear to be under 2015, with the rest being under 1991. These are further investigated below:"
   ]
  },
  {
   "cell_type": "code",
   "execution_count": 28,
   "id": "9fe7af70",
   "metadata": {},
   "outputs": [
    {
     "name": "stdout",
     "output_type": "stream",
     "text": [
      "82.52427184466019% of 1991 data is missing (595/721 rows)\n"
     ]
    }
   ],
   "source": [
    "# Inspect what % of 1991 data is unavailable\n",
    "missing_1991_cnt = len(missing_values.query('Year == 1991'))\n",
    "total_1991_cnt = len(df.query('Year == 1991'))\n",
    "\n",
    "print(f\"{missing_1991_cnt*100/total_1991_cnt}% of 1991 data is missing ({missing_1991_cnt}/{total_1991_cnt} rows)\")"
   ]
  },
  {
   "cell_type": "markdown",
   "id": "a5e3f2c6",
   "metadata": {},
   "source": [
    "As majority of 1991 data is missing, it may be omitted later during analysis. \n",
    "\n",
    "Similar steps are then done to investigate missing values by administration level."
   ]
  },
  {
   "cell_type": "code",
   "execution_count": 29,
   "id": "bb1d6b78",
   "metadata": {
    "scrolled": true
   },
   "outputs": [
    {
     "name": "stdout",
     "output_type": "stream",
     "text": [
      "Count of missing entries under 'Value' by administration level\n"
     ]
    },
    {
     "data": {
      "text/plain": [
       "Admin_Lvl\n",
       "Country       0\n",
       "District     28\n",
       "Province    569\n",
       "Region        0\n",
       "dtype: int64"
      ]
     },
     "execution_count": 29,
     "metadata": {},
     "output_type": "execute_result"
    }
   ],
   "source": [
    "# Print exact number of missing values by admin level\n",
    "print(\"Count of missing entries under 'Value' by administration level\")\n",
    "missing_by_admin = missing_values.groupby(by=\"Admin_Lvl\")\n",
    "missing_by_admin.size()"
   ]
  },
  {
   "cell_type": "markdown",
   "id": "b1a803ce",
   "metadata": {},
   "source": [
    "Majority of missing data are from the province level. However, this makes sense in context as the province is the most common administration level. There are also a great number of provinces, among which the missing data is spread out."
   ]
  },
  {
   "cell_type": "markdown",
   "id": "8af4909a",
   "metadata": {},
   "source": [
    "# Exploratory Data Analysis\n",
    "After data preparation, we can now begin exploring the data along each variable, starting by splitting data into respective dataframes."
   ]
  },
  {
   "cell_type": "code",
   "execution_count": 51,
   "id": "b998f1a0",
   "metadata": {},
   "outputs": [],
   "source": [
    "# Create dataframes for each variable\n",
    "gb = df.groupby('Variable')\n",
    "\n",
    "poverty_threshold = gb.get_group('Annual Per Capita Poverty Threshold (in Pesos)')\n",
    "poverty_incidence_fam = gb.get_group('Poverty Incidence among Families (%)')\n",
    "poverty_magnitude_fam = gb.get_group('Magnitude of Poor Families')\n",
    "poverty_incidence_pop = gb.get_group('Poverty Incidence among Population (%)')\n",
    "poverty_magnitude_pop = gb.get_group('Magnitude of Poor Population')\n",
    "subsistence_incidence_pop = gb.get_group('Subsistence Incidence among Population (%)')\n",
    "subsistence_magnitude_pop = gb.get_group('Magnitude of Subsistence Poor Population')"
   ]
  },
  {
   "cell_type": "markdown",
   "id": "19da3111",
   "metadata": {},
   "source": [
    "### Exploring Poverty Threshold"
   ]
  },
  {
   "cell_type": "code",
   "execution_count": 53,
   "id": "e3158cbe",
   "metadata": {},
   "outputs": [
    {
     "data": {
      "text/html": [
       "<div>\n",
       "<style scoped>\n",
       "    .dataframe tbody tr th:only-of-type {\n",
       "        vertical-align: middle;\n",
       "    }\n",
       "\n",
       "    .dataframe tbody tr th {\n",
       "        vertical-align: top;\n",
       "    }\n",
       "\n",
       "    .dataframe thead th {\n",
       "        text-align: right;\n",
       "    }\n",
       "</style>\n",
       "<table border=\"1\" class=\"dataframe\">\n",
       "  <thead>\n",
       "    <tr style=\"text-align: right;\">\n",
       "      <th></th>\n",
       "      <th>Variable</th>\n",
       "      <th>Year</th>\n",
       "      <th>Province</th>\n",
       "      <th>Value</th>\n",
       "      <th>Admin_Lvl</th>\n",
       "      <th>Region</th>\n",
       "      <th>Unit</th>\n",
       "    </tr>\n",
       "  </thead>\n",
       "  <tbody>\n",
       "    <tr>\n",
       "      <th>0</th>\n",
       "      <td>Annual Per Capita Poverty Threshold (in Pesos)</td>\n",
       "      <td>1991</td>\n",
       "      <td>1st District</td>\n",
       "      <td>NaN</td>\n",
       "      <td>District</td>\n",
       "      <td>NCR</td>\n",
       "      <td>in Pesos</td>\n",
       "    </tr>\n",
       "    <tr>\n",
       "      <th>1</th>\n",
       "      <td>Annual Per Capita Poverty Threshold (in Pesos)</td>\n",
       "      <td>2006</td>\n",
       "      <td>1st District</td>\n",
       "      <td>15699.0</td>\n",
       "      <td>District</td>\n",
       "      <td>NCR</td>\n",
       "      <td>in Pesos</td>\n",
       "    </tr>\n",
       "    <tr>\n",
       "      <th>2</th>\n",
       "      <td>Annual Per Capita Poverty Threshold (in Pesos)</td>\n",
       "      <td>2009</td>\n",
       "      <td>1st District</td>\n",
       "      <td>19227.0</td>\n",
       "      <td>District</td>\n",
       "      <td>NCR</td>\n",
       "      <td>in Pesos</td>\n",
       "    </tr>\n",
       "    <tr>\n",
       "      <th>3</th>\n",
       "      <td>Annual Per Capita Poverty Threshold (in Pesos)</td>\n",
       "      <td>2012</td>\n",
       "      <td>1st District</td>\n",
       "      <td>20344.0</td>\n",
       "      <td>District</td>\n",
       "      <td>NCR</td>\n",
       "      <td>in Pesos</td>\n",
       "    </tr>\n",
       "    <tr>\n",
       "      <th>4</th>\n",
       "      <td>Annual Per Capita Poverty Threshold (in Pesos)</td>\n",
       "      <td>2015</td>\n",
       "      <td>1st District</td>\n",
       "      <td>25007.0</td>\n",
       "      <td>District</td>\n",
       "      <td>NCR</td>\n",
       "      <td>in Pesos</td>\n",
       "    </tr>\n",
       "    <tr>\n",
       "      <th>...</th>\n",
       "      <td>...</td>\n",
       "      <td>...</td>\n",
       "      <td>...</td>\n",
       "      <td>...</td>\n",
       "      <td>...</td>\n",
       "      <td>...</td>\n",
       "      <td>...</td>\n",
       "    </tr>\n",
       "    <tr>\n",
       "      <th>3570</th>\n",
       "      <td>Annual Per Capita Poverty Threshold (in Pesos)</td>\n",
       "      <td>1991</td>\n",
       "      <td>Zamboanga del Sur</td>\n",
       "      <td>NaN</td>\n",
       "      <td>Province</td>\n",
       "      <td>Region IX</td>\n",
       "      <td>in Pesos</td>\n",
       "    </tr>\n",
       "    <tr>\n",
       "      <th>3571</th>\n",
       "      <td>Annual Per Capita Poverty Threshold (in Pesos)</td>\n",
       "      <td>2006</td>\n",
       "      <td>Zamboanga del Sur</td>\n",
       "      <td>11508.0</td>\n",
       "      <td>Province</td>\n",
       "      <td>Region IX</td>\n",
       "      <td>in Pesos</td>\n",
       "    </tr>\n",
       "    <tr>\n",
       "      <th>3572</th>\n",
       "      <td>Annual Per Capita Poverty Threshold (in Pesos)</td>\n",
       "      <td>2009</td>\n",
       "      <td>Zamboanga del Sur</td>\n",
       "      <td>14679.0</td>\n",
       "      <td>Province</td>\n",
       "      <td>Region IX</td>\n",
       "      <td>in Pesos</td>\n",
       "    </tr>\n",
       "    <tr>\n",
       "      <th>3573</th>\n",
       "      <td>Annual Per Capita Poverty Threshold (in Pesos)</td>\n",
       "      <td>2012</td>\n",
       "      <td>Zamboanga del Sur</td>\n",
       "      <td>17961.0</td>\n",
       "      <td>Province</td>\n",
       "      <td>Region IX</td>\n",
       "      <td>in Pesos</td>\n",
       "    </tr>\n",
       "    <tr>\n",
       "      <th>3574</th>\n",
       "      <td>Annual Per Capita Poverty Threshold (in Pesos)</td>\n",
       "      <td>2015</td>\n",
       "      <td>Zamboanga del Sur</td>\n",
       "      <td>20095.0</td>\n",
       "      <td>Province</td>\n",
       "      <td>Region IX</td>\n",
       "      <td>in Pesos</td>\n",
       "    </tr>\n",
       "  </tbody>\n",
       "</table>\n",
       "<p>515 rows × 7 columns</p>\n",
       "</div>"
      ],
      "text/plain": [
       "                                            Variable  Year           Province  \\\n",
       "0     Annual Per Capita Poverty Threshold (in Pesos)  1991       1st District   \n",
       "1     Annual Per Capita Poverty Threshold (in Pesos)  2006       1st District   \n",
       "2     Annual Per Capita Poverty Threshold (in Pesos)  2009       1st District   \n",
       "3     Annual Per Capita Poverty Threshold (in Pesos)  2012       1st District   \n",
       "4     Annual Per Capita Poverty Threshold (in Pesos)  2015       1st District   \n",
       "...                                              ...   ...                ...   \n",
       "3570  Annual Per Capita Poverty Threshold (in Pesos)  1991  Zamboanga del Sur   \n",
       "3571  Annual Per Capita Poverty Threshold (in Pesos)  2006  Zamboanga del Sur   \n",
       "3572  Annual Per Capita Poverty Threshold (in Pesos)  2009  Zamboanga del Sur   \n",
       "3573  Annual Per Capita Poverty Threshold (in Pesos)  2012  Zamboanga del Sur   \n",
       "3574  Annual Per Capita Poverty Threshold (in Pesos)  2015  Zamboanga del Sur   \n",
       "\n",
       "        Value Admin_Lvl     Region      Unit  \n",
       "0         NaN  District        NCR  in Pesos  \n",
       "1     15699.0  District        NCR  in Pesos  \n",
       "2     19227.0  District        NCR  in Pesos  \n",
       "3     20344.0  District        NCR  in Pesos  \n",
       "4     25007.0  District        NCR  in Pesos  \n",
       "...       ...       ...        ...       ...  \n",
       "3570      NaN  Province  Region IX  in Pesos  \n",
       "3571  11508.0  Province  Region IX  in Pesos  \n",
       "3572  14679.0  Province  Region IX  in Pesos  \n",
       "3573  17961.0  Province  Region IX  in Pesos  \n",
       "3574  20095.0  Province  Region IX  in Pesos  \n",
       "\n",
       "[515 rows x 7 columns]"
      ]
     },
     "execution_count": 53,
     "metadata": {},
     "output_type": "execute_result"
    }
   ],
   "source": [
    "poverty_threshold"
   ]
  },
  {
   "cell_type": "code",
   "execution_count": null,
   "id": "82d21d6d",
   "metadata": {},
   "outputs": [],
   "source": []
  }
 ],
 "metadata": {
  "kernelspec": {
   "display_name": "Python 3 (ipykernel)",
   "language": "python",
   "name": "python3"
  },
  "language_info": {
   "codemirror_mode": {
    "name": "ipython",
    "version": 3
   },
   "file_extension": ".py",
   "mimetype": "text/x-python",
   "name": "python",
   "nbconvert_exporter": "python",
   "pygments_lexer": "ipython3",
   "version": "3.9.13"
  }
 },
 "nbformat": 4,
 "nbformat_minor": 5
}
